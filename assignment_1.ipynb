{
 "cells": [
  {
   "cell_type": "markdown",
   "metadata": {},
   "source": [
    "# Decision Making Under Uncertainty - Assignment 1\n",
    "\n",
    "Group 2:\n",
    "- Martijn Ketelaars (ANR: 120975)\n",
    "- Robbie Reyerse (ANR: 109997)\n",
    "- Rosalien Timmerhuis (ANR: 520618)\n",
    "- Mike Weltevrede (ANR: 756479)"
   ]
  },
  {
   "cell_type": "code",
   "execution_count": 1,
   "metadata": {},
   "outputs": [],
   "source": [
    "import random\n",
    "import math\n",
    "import itertools\n",
    "import re\n",
    "\n",
    "import numpy as np\n",
    "import matplotlib.pyplot as plt\n",
    "import gurobipy as gb\n",
    "from scipy import stats"
   ]
  },
  {
   "cell_type": "code",
   "execution_count": 2,
   "metadata": {},
   "outputs": [],
   "source": [
    "# Set parameters\n",
    "num_instances = 10\n",
    "num_items = 10\n",
    "g = 2 # group number"
   ]
  },
  {
   "cell_type": "markdown",
   "metadata": {},
   "source": [
    "# Generation of Problem Instances\n",
    "## Part 1\n",
    "In the first part, we want to generate 10 random instances of the Stochastic Knapsack Problem (SKP). For this, we need to generate values for the low weights using the Poisson distribution. From Lab 2, we know that the `numpy.random` library is the fastest in doing this. For the high weights, we will use the same library, using the `triangular()` function from `numpy.random`.\n"
   ]
  },
  {
   "cell_type": "code",
   "execution_count": 3,
   "metadata": {},
   "outputs": [],
   "source": [
    "def generate_instance(num_items, g, seed):\n",
    "    \"\"\"Generate a dictionary of `num_items` possible item sizes\n",
    "\n",
    "    Parameters\n",
    "    ----------\n",
    "    num_items : int\n",
    "        Number of items to generate weights for\n",
    "    g : int\n",
    "        Group number\n",
    "    seed : int\n",
    "        Random seed\n",
    "\n",
    "    Returns\n",
    "    -------\n",
    "    item_sizes : dict\n",
    "        Dictionary containing the possible item sizes\n",
    "    \"\"\"\n",
    "\n",
    "    # Assert inputs are of correct form\n",
    "    assert isinstance(num_items, int), \"num_items is not an int\"\n",
    "    assert isinstance(g, int), \"g is not an int\"\n",
    "    assert isinstance(seed, int), \"seed is not an int\"\n",
    "\n",
    "    # Generate possible item sizes.\n",
    "    np.random.seed(seed)\n",
    "    lam = [math.ceil((i + 1)/2) for i in range(num_items)]\n",
    "    dl = np.minimum(np.random.poisson(lam), 10)\n",
    "    dh = [np.random.triangular(90 + g - (i+1), 100 + g - (i+1), 110 + g - (i+1))\n",
    "          for i in range(num_items)]\n",
    "\n",
    "    item_sizes = {\"dl\": dl, \"dh\": dh}\n",
    "\n",
    "    return item_sizes\n",
    "\n",
    "\n",
    "def skp(num_instances, num_items, g):\n",
    "    \"\"\"Generates `num_instances` instances of a Stochastic Knapsack Problem (SKP).\n",
    "\n",
    "    Parameters\n",
    "    ----------\n",
    "    num_instances : int\n",
    "        Number of instances of the SKP to generate\n",
    "    num_items : int\n",
    "        Number of items to consider per instance\n",
    "    g : int\n",
    "        Group number\n",
    "\n",
    "    Returns\n",
    "    -------\n",
    "    instance : tuple\n",
    "        Tuple containing the unit excess weight penalty `p`, knapsack capacity `K`, item size\n",
    "        probability vector `pi`, revenue vector `r`, and possible item sizes `item_sizes`,\n",
    "        respectively.\n",
    "    \"\"\"\n",
    "\n",
    "    # Assert inputs are of correct form\n",
    "    assert isinstance(num_instances, int), \"num_instances is not an int\"\n",
    "    assert isinstance(num_items, int), \"num_items is not an int\"\n",
    "    assert isinstance(g, int), \"g is not an int\"\n",
    "\n",
    "    # Generate instance variables\n",
    "    p = math.floor(60 + 0.1 * g)  # Unit excess weight penalty\n",
    "    K = 400 + 4 * g  # Knapsack capacity\n",
    "\n",
    "    pi = np.asarray([0.5 + 0.05 * (i + 1) - 0.001 for i in range(num_items)])  # Item size probabilities\n",
    "    r = np.asarray([51 - (i + 1) for i in range(num_items)])  # Revenues\n",
    "\n",
    "    item_sizes = {j: generate_instance(num_items, g, seed=j) for j in range(num_instances)}  # dl, dh\n",
    "\n",
    "    instance = (p, K, pi, r, item_sizes)\n",
    "\n",
    "    return instance"
   ]
  },
  {
   "cell_type": "code",
   "execution_count": 4,
   "metadata": {},
   "outputs": [],
   "source": [
    "p, K, pi, r, item_sizes = skp(num_instances, num_items, g)"
   ]
  },
  {
   "cell_type": "markdown",
   "metadata": {},
   "source": [
    "# Heuristic Algorithm\n",
    "## Part 2"
   ]
  },
  {
   "cell_type": "code",
   "execution_count": 5,
   "metadata": {},
   "outputs": [],
   "source": [
    "def greedy_algorithm(problem_instance, pi, r, item_sizes, K):\n",
    "    \"\"\"Generates a selection vector for an SKP based on a greedy approach.\n",
    "\n",
    "    Parameters\n",
    "    ----------\n",
    "    problem_instance : int\n",
    "        Integer indicating which instance to take\n",
    "    pi : list\n",
    "        List of probabilities whether an item will attain a high weight\n",
    "    g : int\n",
    "        Group number\n",
    "\n",
    "    Returns\n",
    "    -------\n",
    "    instance : tuple\n",
    "        Tuple containing the unit excess weight penalty `p`, knapsack capacity `K`, item size\n",
    "        probability vector `pi`, revenue vector `r`, and possible item sizes `item_sizes`,\n",
    "        respectively.\n",
    "    \"\"\"\n",
    "\n",
    "    # Compute expectation of w_i for each item\n",
    "    Ew = item_sizes[problem_instance][\"dh\"] * np.array(pi) + item_sizes[problem_instance][\"dl\"] * (np.array(1) - pi)\n",
    "        \n",
    "    sorted_expected_revenue = np.argsort(r)[::-1]\n",
    "\n",
    "    # Initialise zero-value x and W\n",
    "    x = np.zeros(10, dtype=np.int16)\n",
    "    W = 0\n",
    "\n",
    "    while len(sorted_expected_revenue) != 0:\n",
    "\n",
    "        consider_item = sorted_expected_revenue[0]\n",
    "\n",
    "        if W + Ew[consider_item] <= K:\n",
    "            x[consider_item] = 1\n",
    "            W = W + Ew[consider_item]\n",
    "\n",
    "        sorted_expected_revenue = np.delete(sorted_expected_revenue, 0)\n",
    "\n",
    "    return x"
   ]
  },
  {
   "cell_type": "markdown",
   "metadata": {},
   "source": [
    "# Monte Carlo Simulation\n",
    "## Part 3"
   ]
  },
  {
   "cell_type": "code",
   "execution_count": 6,
   "metadata": {},
   "outputs": [
    {
     "name": "stdout",
     "output_type": "stream",
     "text": [
      "x: [1 1 1 1 1 1 0 0 0 0]\n"
     ]
    }
   ],
   "source": [
    "problem_instance = 0\n",
    "x = greedy_algorithm(problem_instance, pi, r, item_sizes, K)\n",
    "print(\"x:\", x)"
   ]
  },
  {
   "cell_type": "code",
   "execution_count": 7,
   "metadata": {},
   "outputs": [],
   "source": [
    "def calculate_profits(item_sizes, x, r, pi, num_items, num_runs, problem_instance):\n",
    "\n",
    "    profits = []\n",
    "\n",
    "    for run in range(num_runs):\n",
    "        u = np.random.uniform(size=num_items)\n",
    "        w = [item_sizes[problem_instance][\"dl\"][i] if u[i] < pi[i] else item_sizes[problem_instance][\"dh\"][i]\n",
    "            for i in range(num_items)]\n",
    "        w = np.asarray(w)\n",
    "\n",
    "        total_weight = np.dot(x, w)\n",
    "        excess = max(total_weight-K, 0)\n",
    "\n",
    "        profit = np.dot(x, r*w) - excess*p\n",
    "        profits.append(profit)\n",
    "\n",
    "    profits = sorted(profits)\n",
    "\n",
    "    return profits"
   ]
  },
  {
   "cell_type": "markdown",
   "metadata": {},
   "source": [
    "We want to calculate the optimal number of runs for running our Monte Carlo simulation. For this, we need to first get an estimate for the standard deviation of the distribution of the profits..."
   ]
  },
  {
   "cell_type": "code",
   "execution_count": 8,
   "metadata": {},
   "outputs": [
    {
     "name": "stdout",
     "output_type": "stream",
     "text": [
      "sigma: 4882.083461004353\n"
     ]
    }
   ],
   "source": [
    "# Calculate number of runs; first a test run to get an estimate for sigma\n",
    "profits = calculate_profits(item_sizes, x, r, pi, num_items, num_runs=1000, problem_instance=problem_instance)\n",
    "sigma = np.std(profits)\n",
    "print(\"sigma:\", sigma)"
   ]
  },
  {
   "cell_type": "markdown",
   "metadata": {},
   "source": [
    "We'd like to show the distribution of the profits. Due to the jumps between selecting a certain number of high and low weights, the distribution looks highly irregular. As such, results may not necessarily be reliable. Nonetheless, as advised by the lecturer, we still take the approach as discussed in the first few lectures."
   ]
  },
  {
   "cell_type": "code",
   "execution_count": 9,
   "metadata": {
    "scrolled": true
   },
   "outputs": [
    {
     "data": {
      "image/png": "[encoded data removed]",
      "text/plain": [
       "<Figure size 432x288 with 1 Axes>"
      ]
     },
     "metadata": {
      "needs_background": "light"
     },
     "output_type": "display_data"
    }
   ],
   "source": [
    "plt.hist(profits, bins=100)\n",
    "plt.show()"
   ]
  },
  {
   "cell_type": "markdown",
   "metadata": {},
   "source": [
    "We then select a value for `alpha` equal to 0.05 as the confidence level for our preferred half-width, defined by `epsilon`. This then gives us the desired number of runs:"
   ]
  },
  {
   "cell_type": "code",
   "execution_count": 10,
   "metadata": {},
   "outputs": [
    {
     "name": "stdout",
     "output_type": "stream",
     "text": [
      "n: 9366\n"
     ]
    }
   ],
   "source": [
    "alpha = 0.05\n",
    "z = stats.norm.ppf(1-alpha/2)\n",
    "\n",
    "epsilon = 0.01*np.mean(profits) # half-width\n",
    "n = int(np.ceil((z*sigma/epsilon)**2))\n",
    "print(\"n:\", n)"
   ]
  },
  {
   "cell_type": "markdown",
   "metadata": {},
   "source": [
    "Next, we find the profits for this number of runs `n` and the corresponding confidence interval."
   ]
  },
  {
   "cell_type": "code",
   "execution_count": 11,
   "metadata": {},
   "outputs": [
    {
     "name": "stdout",
     "output_type": "stream",
     "text": [
      "Confidence interval: (9706.520244067955, 9904.26556206477)\n"
     ]
    }
   ],
   "source": [
    "# Now find profits for this number of runs...\n",
    "profits = calculate_profits(item_sizes, x, r, pi, num_items, num_runs=n, problem_instance=problem_instance)\n",
    "\n",
    "# and find the confidence interval\n",
    "half_width = z*sigma/math.sqrt(n)\n",
    "confidence_interval = (np.mean(profits) - half_width, np.mean(profits) + half_width)\n",
    "print(\"Confidence interval:\", confidence_interval)"
   ]
  },
  {
   "cell_type": "markdown",
   "metadata": {},
   "source": [
    "# Stochastic Programming Models\n",
    "## Part 4"
   ]
  },
  {
   "cell_type": "code",
   "execution_count": 12,
   "metadata": {
    "scrolled": true
   },
   "outputs": [],
   "source": [
    "# For testing purposes\n",
    "scenario1 = [item_sizes[problem_instance]['dh'][i] if (i % 2 == 0) else item_sizes[problem_instance]['dl'][i] for i in range(num_items)]\n",
    "scenario2 = [item_sizes[problem_instance]['dl'][i] if (i % 2 == 0) else item_sizes[problem_instance]['dh'][i] for i in range(num_items)]\n",
    "scenario3 = [item_sizes[problem_instance]['dl'][i] if i <= 4 else item_sizes[problem_instance]['dh'][i] for i in range(num_items)]\n",
    "\n",
    "scenario_weights = (scenario1, scenario2, scenario3)\n",
    "scenario_probabilities = (1/3, 1/3, 1/3)"
   ]
  },
  {
   "cell_type": "code",
   "execution_count": 13,
   "metadata": {},
   "outputs": [],
   "source": [
    "#### Create all 1024 scenarios ####\n",
    "# Binary scenarios creates all possible permutations of 0 and 1\n",
    "binary_scenarios = [list(i) for i in itertools.product([0, 1], repeat=num_items)]\n",
    "\n",
    "# We will, without loss of generality, define that a 1 in binary_scenarios corresponds with a high weight\n",
    "scenario_weights = [[item_sizes[problem_instance]['dh'][i] if scenario[i] == 1\n",
    "                     else item_sizes[problem_instance]['dl'][i]\n",
    "                     for i in range(num_items)] for scenario in binary_scenarios]\n",
    "scenario_probabilities = [np.prod([pi[i] if scenario[i] == 1 else (1-pi[i])\n",
    "                                   for i in range(num_items)]) for scenario in binary_scenarios]"
   ]
  },
  {
   "cell_type": "code",
   "execution_count": 14,
   "metadata": {},
   "outputs": [],
   "source": [
    "def gurobi_model(r, K, p,scenario_weights, scenario_probabilities, beta=0, alpha=0.95, save_path=None):\n",
    "    model = gb.Model(\"expected_value\")\n",
    "    \n",
    "    num_items = len(scenario_weights[0])\n",
    "    \n",
    "    items = range(num_items)\n",
    "    scenarios = range(len(scenario_weights))\n",
    "    \n",
    "    if beta == 0:\n",
    "        alpha = alpha[\"EV\"]\n",
    "    else:\n",
    "        alpha = alpha[\"CVaR\"]\n",
    "    \n",
    "    # Define variables\n",
    "    x = model.addVars(items, vtype=gb.GRB.BINARY, name= \"x\")\n",
    "    epsilon = model.addVars(scenarios, vtype=gb.GRB.CONTINUOUS, name=\"epsilon\", lb=0)\n",
    "    eta = model.addVars(1, vtype=gb.GRB.CONTINUOUS, name=\"eta\")\n",
    "    s = model.addVars(scenarios, vtype=gb.GRB.CONTINUOUS, name=\"s\", lb=0)\n",
    "\n",
    "    model.update()\n",
    "\n",
    "    #### Write objective ####\n",
    "    obj = gb.LinExpr()\n",
    "\n",
    "    # Expected value objective\n",
    "    for scenario in scenarios:\n",
    "        for item in items:\n",
    "            obj += (1-beta)*scenario_probabilities[scenario]*r[item]*scenario_weights[scenario][item]*x[item]\n",
    "        obj -= (1-beta)*p*epsilon[scenario]\n",
    "\n",
    "    # CVaR Objective:\n",
    "    # Part 1\n",
    "    obj += beta*eta[0]\n",
    "\n",
    "    # Part 2\n",
    "    for scenario in scenarios:\n",
    "        # TODO: ask why we do 1/(1-a); what does it mean in practice (with relation to quantile)\n",
    "        obj -= beta*(1/(1-alpha))*scenario_probabilities[scenario]*s[scenario]\n",
    "\n",
    "    model.setObjective(obj, gb.GRB.MAXIMIZE)\n",
    "\n",
    "    #### Write constraints ####\n",
    "    # Epsilon constraint\n",
    "    for scenario in scenarios:\n",
    "        model.addConstr(epsilon[scenario] >= sum([scenario_weights[scenario][item]*x[item] for item in items]) - K,\n",
    "                        name=f\"epsilon_constraint_scenario_{scenario}\")\n",
    "\n",
    "    # S constraint\n",
    "    for scenario in scenarios:\n",
    "        model.addConstr(s[scenario] >= eta[0] - (sum([r[item]*scenario_weights[scenario][item]*x[item] for item in items])\n",
    "                                                 - p*epsilon[scenario]),\n",
    "                        name=f\"s_constraint_scenario_{scenario}\")\n",
    "    \n",
    "    # Update and, possibly, save model before optimising\n",
    "    model.update()\n",
    "    \n",
    "    if save_path != None:\n",
    "        model.write(f'{save_path}.lp')\n",
    "        \n",
    "    model.optimize()\n",
    "    \n",
    "    return model"
   ]
  },
  {
   "cell_type": "code",
   "execution_count": null,
   "metadata": {},
   "outputs": [],
   "source": [
    "# We only want to take a sample of scenarios, say 100 (but it runs all 1024 scenarios in mere seconds too!)\n",
    "sample_size = 100\n",
    "random_indices = random.sample(range(len(scenario_weights)), sample_size)\n",
    "\n",
    "selected_probabilities = [scenario_probabilities[index] for index in random_indices]\n",
    "selected_weights = [scenario_weights[index] for index in random_indices]\n",
    "\n",
    "alpha = {\"EV\": 0, \"CVaR\": 0.95}"
   ]
  },
  {
   "cell_type": "code",
   "execution_count": 15,
   "metadata": {
    "scrolled": true
   },
   "outputs": [
    {
     "name": "stdout",
     "output_type": "stream",
     "text": [
      "Academic license - for non-commercial use only\n",
      "Optimize a model with 200 rows, 211 columns and 2400 nonzeros\n",
      "Variable types: 201 continuous, 10 integer (10 binary)\n",
      "Coefficient statistics:\n",
      "  Matrix range     [1e+00, 5e+03]\n",
      "  Objective range  [6e+01, 4e+02]\n",
      "  Bounds range     [1e+00, 1e+00]\n",
      "  RHS range        [4e+02, 4e+02]\n",
      "Found heuristic solution: objective 945.6146514\n",
      "Presolve removed 133 rows and 134 columns\n",
      "Presolve time: 0.00s\n",
      "Presolved: 67 rows, 77 columns, 737 nonzeros\n",
      "Variable types: 66 continuous, 11 integer (11 binary)\n",
      "\n",
      "Root relaxation: objective 1.393061e+03, 11 iterations, 0.00 seconds\n",
      "\n",
      "    Nodes    |    Current Node    |     Objective Bounds      |     Work\n",
      " Expl Unexpl |  Obj  Depth IntInf | Incumbent    BestBd   Gap | It/Node Time\n",
      "\n",
      "     0     0 1393.06139    0    6  945.61465 1393.06139  47.3%     -    0s\n",
      "H    0     0                    1247.6876064 1393.06139  11.7%     -    0s\n",
      "H    0     0                    1311.9259923 1393.06139  6.18%     -    0s\n",
      "     0     0 1315.23955    0    6 1311.92599 1315.23955  0.25%     -    0s\n",
      "     0     0 1315.23955    0    6 1311.92599 1315.23955  0.25%     -    0s\n",
      "     0     0 1315.23955    0    6 1311.92599 1315.23955  0.25%     -    0s\n",
      "     0     0 1315.23955    0    5 1311.92599 1315.23955  0.25%     -    0s\n",
      "     0     0 1315.23955    0    6 1311.92599 1315.23955  0.25%     -    0s\n",
      "     0     0 1315.23955    0    5 1311.92599 1315.23955  0.25%     -    0s\n",
      "     0     0     cutoff    0      1311.92599 1311.92599  0.00%     -    0s\n",
      "\n",
      "Cutting planes:\n",
      "  Cover: 7\n",
      "  MIR: 1\n",
      "\n",
      "Explored 1 nodes (21 simplex iterations) in 0.09 seconds\n",
      "Thread count was 12 (of 12 available processors)\n",
      "\n",
      "Solution count 3: 1311.93 1247.69 945.615 \n",
      "\n",
      "Optimal solution found (tolerance 1.00e-04)\n",
      "Best objective 1.311925992302e+03, best bound 1.311925992302e+03, gap 0.0000%\n"
     ]
    }
   ],
   "source": [
    "model_EV = gurobi_model(r, K, p, scenario_weights = selected_weights,\n",
    "                     scenario_probabilities = selected_probabilities,\n",
    "                     beta=0, alpha=alpha, save_path=None)"
   ]
  },
  {
   "cell_type": "code",
   "execution_count": 19,
   "metadata": {
    "scrolled": true
   },
   "outputs": [
    {
     "name": "stdout",
     "output_type": "stream",
     "text": [
      "Optimize a model with 200 rows, 211 columns and 2400 nonzeros\n",
      "Variable types: 201 continuous, 10 integer (10 binary)\n",
      "Coefficient statistics:\n",
      "  Matrix range     [1e+00, 5e+03]\n",
      "  Objective range  [2e-07, 1e+00]\n",
      "  Bounds range     [1e+00, 1e+00]\n",
      "  RHS range        [4e+02, 4e+02]\n",
      "Found heuristic solution: objective -0.0000000\n",
      "Presolve removed 33 rows and 33 columns\n",
      "Presolve time: 0.01s\n",
      "Presolved: 167 rows, 178 columns, 2004 nonzeros\n",
      "Variable types: 168 continuous, 10 integer (10 binary)\n",
      "\n",
      "Root relaxation: objective 1.747945e+04, 116 iterations, 0.00 seconds\n",
      "\n",
      "    Nodes    |    Current Node    |     Objective Bounds      |     Work\n",
      " Expl Unexpl |  Obj  Depth IntInf | Incumbent    BestBd   Gap | It/Node Time\n",
      "\n",
      "     0     0 17479.4539    0    5   -0.00000 17479.4539      -     -    0s\n",
      "H    0     0                    17152.781874 17479.4539  1.90%     -    0s\n",
      "     0     0 17436.3302    0    5 17152.7819 17436.3302  1.65%     -    0s\n",
      "     0     0 17350.0704    0    6 17152.7819 17350.0704  1.15%     -    0s\n",
      "     0     0 17345.9216    0    6 17152.7819 17345.9216  1.13%     -    0s\n",
      "     0     0 17341.7406    0    6 17152.7819 17341.7406  1.10%     -    0s\n",
      "     0     0 17341.5314    0    6 17152.7819 17341.5314  1.10%     -    0s\n",
      "     0     0 17341.4035    0    7 17152.7819 17341.4035  1.10%     -    0s\n",
      "     0     0 17338.7555    0    7 17152.7819 17338.7555  1.08%     -    0s\n",
      "     0     0 17337.6493    0    7 17152.7819 17337.6493  1.08%     -    0s\n",
      "     0     0 17337.5298    0    7 17152.7819 17337.5298  1.08%     -    0s\n",
      "     0     0 17178.5328    0    6 17152.7819 17178.5328  0.15%     -    0s\n",
      "     0     0 17178.5328    0    6 17152.7819 17178.5328  0.15%     -    0s\n",
      "     0     0 17178.5328    0    6 17152.7819 17178.5328  0.15%     -    0s\n",
      "     0     0 17178.5328    0    6 17152.7819 17178.5328  0.15%     -    0s\n",
      "     0     0 17178.5328    0    6 17152.7819 17178.5328  0.15%     -    0s\n",
      "     0     2 17178.5328    0    6 17152.7819 17178.5328  0.15%     -    0s\n",
      "\n",
      "Cutting planes:\n",
      "  Gomory: 1\n",
      "  MIR: 17\n",
      "  StrongCG: 1\n",
      "\n",
      "Explored 6 nodes (264 simplex iterations) in 0.21 seconds\n",
      "Thread count was 12 (of 12 available processors)\n",
      "\n",
      "Solution count 2: 17152.8 -0 \n",
      "\n",
      "Optimal solution found (tolerance 1.00e-04)\n",
      "Best objective 1.715278187447e+04, best bound 1.715278187447e+04, gap 0.0000%\n"
     ]
    }
   ],
   "source": [
    "model_CVaR = gurobi_model(r, K, p, scenario_weights = selected_weights,\n",
    "                     scenario_probabilities = selected_probabilities,\n",
    "                     beta=1, alpha=alpha, save_path=None)"
   ]
  },
  {
   "cell_type": "code",
   "execution_count": 17,
   "metadata": {},
   "outputs": [
    {
     "name": "stdout",
     "output_type": "stream",
     "text": [
      "EV | x: [0, 1, 0, 1, 0, 1, 1, 1, 0, 0] | eta: [0]\n"
     ]
    }
   ],
   "source": [
    "v_EV = model_EV.getVars()\n",
    "\n",
    "outcome_x_EV = [int(v_EV[i].x) for i in range(len(v_EV)) if (re.sub(\"\\[\\d+\\]\", \"\", v_EV[i].varName) == \"x\")]\n",
    "outcome_eta_EV = [int(v_EV[i].x) for i in range(len(v_EV)) if (re.sub(\"\\[\\d+\\]\", \"\", v_EV[i].varName) == \"eta\")]\n",
    "outcome_epsilon_EV = [int(v_EV[i].x) for i in range(len(v_EV)) if (re.sub(\"\\[\\d+\\]\", \"\", v_EV[i].varName) == \"epsilon\")]\n",
    "outcome_s_EV = [int(v_EV[i].x) for i in range(len(v_EV)) if (re.sub(\"\\[\\d+\\]\", \"\", v_EV[i].varName) == \"s\")]\n",
    "\n",
    "print(\"EV   | x:\", outcome_x_EV, \"| eta:\", outcome_eta_EV)"
   ]
  },
  {
   "cell_type": "code",
   "execution_count": 20,
   "metadata": {},
   "outputs": [
    {
     "name": "stdout",
     "output_type": "stream",
     "text": [
      "CVar | x: [0, 1, 1, 1, 1, 0, 1, 0, 0, 1] | eta: [17665]\n"
     ]
    }
   ],
   "source": [
    "v_CVaR = model_CVaR.getVars()\n",
    "\n",
    "outcome_x_CVaR = [int(v_CVaR[i].x) for i in range(len(v_CVaR)) if (re.sub(\"\\[\\d+\\]\", \"\", v_CVaR[i].varName) == \"x\")]\n",
    "outcome_eta_CVaR = [int(v_CVaR[i].x) for i in range(len(v_CVaR)) if (re.sub(\"\\[\\d+\\]\", \"\", v_CVaR[i].varName) == \"eta\")]\n",
    "outcome_epsilon_CVaR = [int(v_CVaR[i].x) for i in range(len(v_CVaR)) if (re.sub(\"\\[\\d+\\]\", \"\", v_CVaR[i].varName) == \"epsilon\")]\n",
    "outcome_s_CVaR = [int(v_CVaR[i].x) for i in range(len(v_CVaR)) if (re.sub(\"\\[\\d+\\]\", \"\", v_CVaR[i].varName) == \"s\")]\n",
    "\n",
    "print(\"CVar | x:\", outcome_x_CVaR, \"| eta:\", outcome_eta_CVaR)"
   ]
  },
  {
   "cell_type": "code",
   "execution_count": 23,
   "metadata": {},
   "outputs": [
    {
     "data": {
      "text/plain": [
       "(17152.781874466946, 1311.9259923016766)"
      ]
     },
     "execution_count": 23,
     "metadata": {},
     "output_type": "execute_result"
    }
   ],
   "source": [
    "model_CVaR.ObjVal, model_EV.ObjVal"
   ]
  },
  {
   "cell_type": "code",
   "execution_count": null,
   "metadata": {
    "scrolled": true
   },
   "outputs": [],
   "source": [
    "# # Part 5\n",
    "# # Part 6\n",
    "\n",
    "# Sample Average Approximation\n",
    "# # Part 7\n",
    "\n",
    "# Analysis\n",
    "# # Part 8\n",
    "\n",
    "# # Part 9\n",
    "\n",
    "# # Bonus"
   ]
  }
 ],
 "metadata": {
  "kernelspec": {
   "display_name": "Python 3",
   "language": "python",
   "name": "python3"
  },
  "language_info": {
   "codemirror_mode": {
    "name": "ipython",
    "version": 3
   },
   "file_extension": ".py",
   "mimetype": "text/x-python",
   "name": "python",
   "nbconvert_exporter": "python",
   "pygments_lexer": "ipython3",
   "version": "3.7.4"
  }
 },
 "nbformat": 4,
 "nbformat_minor": 2
}
