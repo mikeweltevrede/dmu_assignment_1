{
 "cells": [
  {
   "cell_type": "markdown",
   "metadata": {},
   "source": [
    "# Decision Making Under Uncertainty - Assignment 1\n",
    "\n",
    "Group 2:\n",
    "- Martijn Ketelaars (ANR: 120975)\n",
    "- Robbie Reyerse (ANR: 109997)\n",
    "- Rosalien Timmerhuis (ANR: 520618)\n",
    "- Mike Weltevrede (ANR: 756479)\n",
    "\n",
    "This assignment is about the Stochastic Knapsack Problem (SKP). In the general SKP you are choosing a subset among $N$ items $(i= 1,....,N)$ to allocate to a knapsack of capacity $K$. Each item $i$ has a random size of $w_i$ units. We assume that item sizes are statistically independent. If the collective size of the selected items exceeds the capacity, a penalty of $p$ is assessed per unit excess. We assume that item $i$ has an associated per-unit revenue $r_i$ with $r_i < p$. Different objective functions are possible, i.e. maximizing the profit.\n",
    "\n",
    "The binary decision variable $x_i$ takes a value of $1$ if item $i$ is allocated to the knapsack and a value of $0$ otherwise. All items are considered simultaneously and the values of their sizes are unknown before selection decisions are made. In this assignment, the item size $w_i$ can take only two values, namely $d\\_h_i$ and $d\\_l_i$, with probabilities $P(w_i = d\\_h_i ) = \\pi_i$ and $P(w_i = d\\_l_i ) = 1-\\pi_i$.\n",
    "\n",
    "We start by initialising our problem by importing the necessary Python libraries and setting the parameters that are set in stone, namely the number of instances, the number of items $N$, and the variable $g$ (our group number). We also set the parameters $\\alpha$ and $\\beta$, which are needed in our model to signify the extent of risky behaviour."
   ]
  },
  {
   "cell_type": "code",
   "execution_count": 1,
   "metadata": {},
   "outputs": [],
   "source": [
    "import copy\n",
    "import itertools\n",
    "import math\n",
    "import random\n",
    "import re\n",
    "\n",
    "import gurobipy as gb\n",
    "import matplotlib.pyplot as plt\n",
    "import numpy as np\n",
    "import seaborn as sns\n",
    "\n",
    "from scipy import stats"
   ]
  },
  {
   "cell_type": "code",
   "execution_count": 2,
   "metadata": {},
   "outputs": [],
   "source": [
    "# Set parameters\n",
    "num_instances = 10\n",
    "num_items = 10\n",
    "g = 2 # group number\n",
    "alpha_model = {\"EV\": 0, \"CVaR\": 0.95}\n",
    "beta_model = {\"EV\": 0, \"CVaR\": 1}"
   ]
  },
  {
   "cell_type": "markdown",
   "metadata": {},
   "source": [
    "# Generation of Problem Instances\n",
    "## Part 1\n",
    "In the first part, we want to generate 10 random instances of the Stochastic Knapsack Problem (SKP). For this, we need to generate values for the low weights $d\\_l_i$ using the Poisson distribution. From Lab 2, we know that the `numpy.random` library is the fastest in doing this. For the high weights $d\\_h_i$, we will use the same library, using the `triangular()` function from `numpy.random`. These weights will be stored in `item_sizes`. We use a random seed equal to the instance number to make sure that we get similar results when reproducing."
   ]
  },
  {
   "cell_type": "code",
   "execution_count": 3,
   "metadata": {},
   "outputs": [],
   "source": [
    "def generate_instance(num_items, g, seed):\n",
    "    \"\"\"Generate a dictionary of `num_items` possible item sizes\n",
    "\n",
    "    Parameters\n",
    "    ----------\n",
    "    num_items : int\n",
    "        Number of items to generate weights for\n",
    "    g : int\n",
    "        Group number\n",
    "    seed : int\n",
    "        Random seed\n",
    "\n",
    "    Returns\n",
    "    -------\n",
    "    item_sizes : dict\n",
    "        Dictionary containing the possible item sizes\n",
    "    \"\"\"\n",
    "\n",
    "    # Assert inputs are of correct form\n",
    "    assert isinstance(num_items, int), \"num_items is not an int\"\n",
    "    assert isinstance(g, int), \"g is not an int\"\n",
    "    assert isinstance(seed, int), \"seed is not an int\"\n",
    "\n",
    "    # Generate possible item sizes.\n",
    "    np.random.seed(seed)\n",
    "    lam = [math.ceil((i + 1)/2) for i in range(num_items)]\n",
    "    dl = np.minimum(np.random.poisson(lam), 10)\n",
    "    dh = [np.random.triangular(90 + g - (i+1), 100 + g - (i+1), 110 + g - (i+1))\n",
    "          for i in range(num_items)]\n",
    "\n",
    "    item_sizes = {\"dl\": dl, \"dh\": dh}\n",
    "\n",
    "    return item_sizes"
   ]
  },
  {
   "cell_type": "markdown",
   "metadata": {},
   "source": [
    "Next, we will create the instances of the SKP using the function `skp()` defined below. For this, we need to generate the penalty $p = \\left\\lfloor 60 + \\frac{g}{10} \\right\\rfloor$ and the knapsack capacity $K = 400+4g$, as well as the item size probability vector `pi`, revenue vector `r`, and possible item sizes `item_sizes`. The latter is created using the function `generate_instances()` defined above."
   ]
  },
  {
   "cell_type": "code",
   "execution_count": 4,
   "metadata": {},
   "outputs": [],
   "source": [
    "def skp(num_instances, num_items, g):\n",
    "    \"\"\"Generates `num_instances` instances of a Stochastic Knapsack Problem (SKP).\n",
    "\n",
    "    Parameters\n",
    "    ----------\n",
    "    num_instances : int\n",
    "        Number of instances of the SKP to generate\n",
    "    num_items : int\n",
    "        Number of items to consider per instance\n",
    "    g : int\n",
    "        Group number\n",
    "\n",
    "    Returns\n",
    "    -------\n",
    "    instance : tuple\n",
    "        Tuple containing the unit excess weight penalty `p`, knapsack capacity `K`, item size\n",
    "        probability vector `pi`, revenue vector `r`, and possible item sizes `item_sizes`,\n",
    "        respectively.\n",
    "    \"\"\"\n",
    "\n",
    "    # Assert inputs are of correct form\n",
    "    assert isinstance(num_instances, int), \"num_instances is not an int\"\n",
    "    assert isinstance(num_items, int), \"num_items is not an int\"\n",
    "    assert isinstance(g, int), \"g is not an int\"\n",
    "\n",
    "    # Generate instance variables\n",
    "    p = math.floor(60 + 0.1 * g)  # Unit excess weight penalty\n",
    "    K = 400 + 4 * g  # Knapsack capacity\n",
    "\n",
    "    pi = np.asarray([0.5 + 0.05 * (i + 1) - 0.001 for i in range(num_items)])\n",
    "    r = np.asarray([51 - (i + 1) for i in range(num_items)])\n",
    "\n",
    "    item_sizes = {j: generate_instance(num_items, g, seed=j) for j in range(num_instances)}\n",
    "\n",
    "    instance = (p, K, pi, r, item_sizes)\n",
    "\n",
    "    return instance"
   ]
  },
  {
   "cell_type": "code",
   "execution_count": 5,
   "metadata": {},
   "outputs": [
    {
     "name": "stdout",
     "output_type": "stream",
     "text": [
      "Penalty: 60\n",
      "Capacity: 408\n",
      "Probabilities: [0.549 0.599 0.649 0.699 0.749 0.799 0.849 0.899 0.949 0.999]\n",
      "Revenues: [50 49 48 47 46 45 44 43 42 41]\n"
     ]
    }
   ],
   "source": [
    "p, K, pi, r, item_sizes = skp(num_instances, num_items, g)\n",
    "\n",
    "print(\"Penalty:\", p)\n",
    "print(\"Capacity:\", K)\n",
    "print(\"Probabilities:\", pi)\n",
    "print(\"Revenues:\", r)"
   ]
  },
  {
   "cell_type": "markdown",
   "metadata": {},
   "source": [
    "# Heuristic Algorithm\n",
    "## Part 2"
   ]
  },
  {
   "cell_type": "markdown",
   "metadata": {},
   "source": [
    "In this part, we develop a simple greedy heuristic algorithm to suggest an item selection strategy for the SKP problem\n",
    "described above. In each iteration we try to add the item (from the set of remaining items) for which its revenue is highest. If we are not able to add this item (because its expected weight exceeds the remaining capacity of the knapsack) and there are still other items that have not been considered, it may as well be possible that one of those items can be added instead.  We continue until either there are no more items to consider or the knapsack is full."
   ]
  },
  {
   "cell_type": "code",
   "execution_count": 6,
   "metadata": {},
   "outputs": [],
   "source": [
    "def greedy_algorithm(problem_instance, pi, r, item_sizes, K):\n",
    "    \"\"\"Using a greedy algorithm, selects items to use in a Stochastic Knapsack Problem.\n",
    "\n",
    "    Parameters\n",
    "    ----------\n",
    "    problem_instance : int\n",
    "        Integer specifying which problem instance to take. Note that this number needs to be a key\n",
    "        in `item_sizes`.\n",
    "    pi : list or numpy.array\n",
    "        Probabilities specifying whether an item will attain a high weight.\n",
    "    r : list or numpy.array\n",
    "        Per-unit revenue. Note that this means that if we take M amounts of item i, then the\n",
    "        revenue is r[i]*M, not r[i].\n",
    "    item_sizes : dict\n",
    "        Dictionary with as keys the problem instance number and as values a dictionary of which the\n",
    "        keys are 'dl' and 'dh', specifying the low and high weight, respectively, and the values are\n",
    "        the corresponding weights for each item.\n",
    "    K : int\n",
    "        Knapsack capacity.\n",
    "\n",
    "    Returns\n",
    "    -------\n",
    "    x : numpy.array\n",
    "        Specifies which items are selected with a 1 if an item is selected and 0 otherwise.\n",
    "    \"\"\"\n",
    "\n",
    "    # Compute expectation of w_i for each item\n",
    "    Ew = item_sizes[problem_instance][\"dh\"] * np.array(pi) + \\\n",
    "        item_sizes[problem_instance][\"dl\"] * (np.array(1) - pi)\n",
    "    print(Ew)\n",
    "\n",
    "    sorted_expected_revenue = np.argsort(r)[::-1]\n",
    "\n",
    "    # Initialise zero-value x and W\n",
    "    x = np.zeros(10, dtype=np.int16)\n",
    "    W = 0\n",
    "\n",
    "    while len(sorted_expected_revenue) != 0:\n",
    "\n",
    "        consider_item = sorted_expected_revenue[0]\n",
    "\n",
    "        if W + Ew[consider_item] <= K:\n",
    "            x[consider_item] = 1\n",
    "            W = W + Ew[consider_item]\n",
    "\n",
    "        sorted_expected_revenue = np.delete(sorted_expected_revenue, 0)\n",
    "\n",
    "    return x"
   ]
  },
  {
   "cell_type": "markdown",
   "metadata": {},
   "source": [
    "# Monte Carlo Simulation\n",
    "## Part 3"
   ]
  },
  {
   "cell_type": "markdown",
   "metadata": {},
   "source": [
    "Using our greedy heuristic algorithm, we will generate decision variables for the first problem instance. Note that we take `problem_instance` equal to 0 since Python is zero-indexed and we started counting at 0 when generating the instances in the beginning of this assignment."
   ]
  },
  {
   "cell_type": "code",
   "execution_count": 7,
   "metadata": {},
   "outputs": [
    {
     "name": "stdout",
     "output_type": "stream",
     "text": [
      "[55.54336671 60.73737364 65.24347672 75.63011498 68.79770332 75.28524496\n",
      " 77.7422829  86.31090013 85.92947512 91.56957604]\n",
      "x: [1 1 1 1 1 1 0 0 0 0]\n"
     ]
    }
   ],
   "source": [
    "problem_instance = 0\n",
    "x = greedy_algorithm(problem_instance, pi, r, item_sizes, K)\n",
    "print(\"x:\", x)"
   ]
  },
  {
   "cell_type": "markdown",
   "metadata": {},
   "source": [
    "Using the possible item sizes and the probability vector `pi`, we can generate the actual weights of the items for a specific problem instance. When a randomly drawn $Uniform(0, 1)$ variable exceeds the relevant probability in `pi`, the weight chosen for that item is $d\\_l_i$. Else, we select weight $d\\_h_i$."
   ]
  },
  {
   "cell_type": "code",
   "execution_count": 8,
   "metadata": {},
   "outputs": [],
   "source": [
    "def generate_weights(item_sizes, pi, problem_instance):\n",
    "\n",
    "    num_items = len(pi)\n",
    "\n",
    "    u = np.random.uniform(size=num_items)\n",
    "    w = [item_sizes[problem_instance][\"dh\"][i] if u[i] < pi[i]\n",
    "         else item_sizes[problem_instance][\"dl\"][i] for i in range(num_items)]\n",
    "    w = np.asarray(w)\n",
    "\n",
    "    return w"
   ]
  },
  {
   "cell_type": "markdown",
   "metadata": {},
   "source": [
    "Using the weight generating function and a decision vector `x`, we can calculate the actual profit for that decision vector. This is simulated in `calculate_profits()` below, taking a certain number of runs `num_runs` to do so. When the realised weight exceeds $K$, we apply athe penalty $p$ for every unit exceeding $K$."
   ]
  },
  {
   "cell_type": "code",
   "execution_count": 9,
   "metadata": {},
   "outputs": [],
   "source": [
    "def calculate_profits(item_sizes, x, r, pi, problem_instance, num_runs):\n",
    "    \"\"\"Calculates the profits based on realised item sizes.\n",
    "\n",
    "    Parameters\n",
    "    ----------\n",
    "    item_sizes : dict\n",
    "        Dictionary with as keys the problem instance number and as values a dictionary of which the\n",
    "        keys are 'dl' and 'dh', specifying the low and high weight, respectively, and the values are\n",
    "        the corresponding weights for each item.\n",
    "    x : numpy.array\n",
    "        Specifies which items are selected with a 1 if an item is selected and 0 otherwise.\n",
    "    r : list or numpy.array\n",
    "        Per-unit revenue. Note that this means that if we take M amounts of item i, then the\n",
    "        revenue is r[i]*M, not r[i].\n",
    "    pi : list or numpy.array\n",
    "        Probabilities specifying whether an item will attain a high weight.\n",
    "    problem_instance : int\n",
    "        Integer specifying which problem instance to take. Note that this number needs to be a key\n",
    "        in `item_sizes`.\n",
    "    num_runs : int\n",
    "        Integer specifying the number of runs for which to calculate the profits.\n",
    "\n",
    "    Returns\n",
    "    -------\n",
    "    profits : numpy.array\n",
    "        Specifies the profits following `num_runs` simulations of instance `problem_instance`.\n",
    "    \"\"\"\n",
    "\n",
    "    profits = []\n",
    "    num_items = len(x)\n",
    "\n",
    "    for run in range(num_runs):\n",
    "        w = generate_weights(item_sizes, pi, problem_instance)\n",
    "\n",
    "        total_weight = np.dot(x, w)\n",
    "        excess = max(total_weight-K, 0)\n",
    "        \n",
    "        profit = np.dot(x, r*w) - excess*p\n",
    "        profits.append(profit)\n",
    "\n",
    "    profits = sorted(profits)\n",
    "\n",
    "    return profits"
   ]
  },
  {
   "cell_type": "markdown",
   "metadata": {},
   "source": [
    "We want to calculate the optimal number of runs for running our Monte Carlo simulation. For this, we need to first get an estimate for the standard deviation of the distribution of the profits using a sample run (we use `num_runs` equal to 1000). Note that this standard deviation is defined as \n",
    "$$\n",
    "\\begin{align*}\n",
    "    \\left(\\frac{1}{M(M-1)} \\sum_{j=1}^M \\left(profits_i - \\overline{profits}\\right)\\right)^{\\frac{1}{2}},\n",
    "\\end{align*}\n",
    "$$\n",
    "\n",
    "where $M$ is the number of runs, since we take the standard deviation of the sample mean. Using `ddof=1` in the `numpy.std()` function means that we use $M-1$ to achieve the unbiased estimator, meaning we still need to multiply by $\\sqrt{\\frac{1}{M}}$ to achieve the expression above."
   ]
  },
  {
   "cell_type": "code",
   "execution_count": 10,
   "metadata": {
    "scrolled": true
   },
   "outputs": [
    {
     "name": "stdout",
     "output_type": "stream",
     "text": [
      "Mean profit: 16714.697551234098 | Sigma: 132.3059173757557\n"
     ]
    }
   ],
   "source": [
    "# Calculate number of runs; first a test run to get an estimate for sigma\n",
    "num_runs = 500\n",
    "profits = calculate_profits(item_sizes, x, r, pi, problem_instance=problem_instance,\n",
    "                            num_runs=num_runs)\n",
    "sigma = np.std(profits, ddof=1) * math.sqrt(1/num_runs)\n",
    "\n",
    "print(f\"Mean profit: {np.mean(profits)} | Sigma: {sigma}\")"
   ]
  },
  {
   "cell_type": "markdown",
   "metadata": {},
   "source": [
    "We'd like to show the distribution of the profits. Due to the jumps between selecting a certain number of high and low weights, the distribution looks highly irregular. As such, results may not necessarily be reliable. Nonetheless, as advised by dr. Merzifonluoglu, we still take the approach as discussed in the first few lectures, using the half-width. "
   ]
  },
  {
   "cell_type": "code",
   "execution_count": 11,
   "metadata": {
    "scrolled": true
   },
   "outputs": [
    {
     "data": {
      "image/png": "[encoded data removed]",
      "text/plain": [
       "<Figure size 432x288 with 1 Axes>"
      ]
     },
     "metadata": {
      "needs_background": "light"
     },
     "output_type": "display_data"
    }
   ],
   "source": [
    "sns.distplot(profits, bins=100, color='#de5285')\n",
    "plt.show()"
   ]
  },
  {
   "cell_type": "markdown",
   "metadata": {},
   "source": [
    "We then select a value for `alpha` equal to 0.05 as the confidence level for our preferred half-width, defined by `epsilon`. We would like to get the half-width to be 0.1% of our expected profit. This then gives us the desired number of runs:"
   ]
  },
  {
   "cell_type": "code",
   "execution_count": 12,
   "metadata": {},
   "outputs": [
    {
     "name": "stdout",
     "output_type": "stream",
     "text": [
      "Mean profit: 16714.697551234098 | Half-width (epsilon): 16.7146975512341 | Number of runs (n): 241\n"
     ]
    }
   ],
   "source": [
    "alpha = 0.05\n",
    "z = stats.norm.ppf(1-alpha/2)\n",
    "epsilon = 10e-4*np.mean(profits)\n",
    "n = int(np.ceil((z*sigma/epsilon)**2))\n",
    "\n",
    "print(f\"Mean profit: {np.mean(profits)} | Half-width (epsilon): {epsilon} | Number of runs (n): {n}\")"
   ]
  },
  {
   "cell_type": "markdown",
   "metadata": {},
   "source": [
    "We can also see this in some plots. Our preferred half-width (somewhere around 17, decided by the randomness of our initialisation) can be seen to correspond to a number of runs around 240 (again, dependent on random outcomes)."
   ]
  },
  {
   "cell_type": "code",
   "execution_count": 13,
   "metadata": {
    "scrolled": true
   },
   "outputs": [
    {
     "name": "stderr",
     "output_type": "stream",
     "text": [
      "C:\\Users\\mikew\\Anaconda3\\envs\\env_gurobi\\lib\\site-packages\\ipykernel_launcher.py:2: RuntimeWarning: divide by zero encountered in double_scalars\n",
      "  \n"
     ]
    },
    {
     "data": {
      "image/png": "[encoded data removed]",
      "text/plain": [
       "<Figure size 432x288 with 2 Axes>"
      ]
     },
     "metadata": {
      "needs_background": "light"
     },
     "output_type": "display_data"
    }
   ],
   "source": [
    "runs = range(1000)\n",
    "half_widths = [z*sigma/math.sqrt(i) for i in runs]\n",
    "\n",
    "plt.subplot(1, 2, 1)\n",
    "plt.plot(runs, half_widths, color='#de5285')\n",
    "plt.xlabel(\"Number of runs\")\n",
    "plt.ylabel(\"Half width\")\n",
    "plt.ylim(6, 20)\n",
    "\n",
    "plt.subplot(1, 2, 2)\n",
    "plt.plot(runs, half_widths, color='#de5285')\n",
    "plt.xlabel(\"Number of runs\")\n",
    "plt.ylabel(\"Half width\")\n",
    "plt.xlim(100, 400)\n",
    "plt.ylim(10, 20)\n",
    "\n",
    "plt.tight_layout()\n",
    "plt.show()"
   ]
  },
  {
   "cell_type": "markdown",
   "metadata": {},
   "source": [
    "This means that we know our number of runs. To make sure that we have enough runs, we round the number of runs up to the nearest hundred and then find the corresponding confidence interval for the sample mean."
   ]
  },
  {
   "cell_type": "code",
   "execution_count": 14,
   "metadata": {
    "scrolled": false
   },
   "outputs": [
    {
     "name": "stdout",
     "output_type": "stream",
     "text": [
      "Confidence interval: (16702.542308550215, 16740.763049075398)\n"
     ]
    }
   ],
   "source": [
    "# Now find profits for this number of runs...\n",
    "n_rounded = int(math.ceil(n / 100.0)) * 100\n",
    "profits = calculate_profits(item_sizes, x, r, pi, num_runs=n_rounded,\n",
    "                            problem_instance=problem_instance)\n",
    "\n",
    "# and find the confidence interval\n",
    "sigma = np.std(profits, ddof=1) * math.sqrt(1/n_rounded)\n",
    "half_width = z*sigma/math.sqrt(n_rounded)\n",
    "confidence_interval = (np.mean(profits) - half_width, np.mean(profits) + half_width)\n",
    "print(\"Confidence interval:\", confidence_interval)"
   ]
  },
  {
   "cell_type": "markdown",
   "metadata": {},
   "source": [
    "# Stochastic Programming Models\n",
    "## Part 4.\n",
    "\n",
    "In this part, we want to formulate the SKP as a mixed integer linear programming (MILP) problem with an objective of maximising expected profit and of maximising Conditional Value at Risk (CVaR).\n",
    "\n",
    "The model that we use is:\n",
    "\n",
    "\\begin{align*}\n",
    "    \\max_{x, \\varepsilon_u,\\eta, S_u } \\; (1-\\beta) \\left [ \\sum_{u \\in U} P_u \\left ( \\sum_{i=1}^{10} r_i w_{iu} x_i - p \\varepsilon_u \\right ) \\right ] + \\beta \\left [ \\eta - \\frac{1}{1-\\alpha} \\sum_{u \\in U } P_u S_u \\right ]\n",
    "\\end{align*}\n",
    "subject to\n",
    "\\begin{align*}\n",
    "    \\begin{aligned}\n",
    "        x_i & \\in \\{0,1\\} & \\quad & \\text{ for all } i \\in I \\\\\n",
    "        \\varepsilon_u & \\geq 0 & \\quad & \\text{ for all } u \\in U \\\\\n",
    "        \\varepsilon_u & \\geq \\sum_{i=1} ^{10} w_{iu} x_i - K  & \\quad &  \\text{ for all } u \\in U \\\\\n",
    "        S_u & \\geq 0 & \\quad & \\text{ for all } u \\in U \\\\\n",
    "        S_u & \\geq \\eta - \\left ( \\sum_{i=1}^{10} r_i w_{iu} x_i - p \\varepsilon_u \\right ) & \\quad & \\text{ for all } u \\in U.\n",
    "\\end{aligned}\n",
    "\\end{align*}\n",
    "\n",
    "Maximising expected profit corresponds to an objective function with $\\beta = 0$ and maximising Conditional Value at Risk (CVaR) means that $\\beta = 1$ in the objective function. First of all, we need to create all possible scenarios in means of item weights. Since we have 10 items and 2 options for weights for each item, this means that we will have $2^{10} = 1024$ scenarios. These are created in `create_scenarios()`. We also create the function for the scenario weights for the Sample Average Approximation (SAA), seeing as the only difference is how the scenarios and the corresponding probabilities are created. This will also be done in the function `optimise_skp()` already."
   ]
  },
  {
   "cell_type": "code",
   "execution_count": 15,
   "metadata": {},
   "outputs": [],
   "source": [
    "def create_scenarios(problem_instance):\n",
    "    # Create all possible permutations of 0 and 1\n",
    "    binary_scenarios = [list(i) for i in itertools.product([0, 1], repeat=num_items)]\n",
    "    \n",
    "    # We will, without loss of generality, define that a 1 in binary_scenarios corresponds with a\n",
    "    # high weight and 0 corresponds with a low weight\n",
    "    scenario_weights = [[item_sizes[problem_instance]['dh'][i] if scenario[i] == 1\n",
    "                         else item_sizes[problem_instance]['dl'][i]\n",
    "                         for i in range(num_items)]\n",
    "                        for scenario in binary_scenarios]\n",
    "    scenario_probabilities = [np.prod([pi[i] if scenario[i] == 1 else (1-pi[i])\n",
    "                                       for i in range(num_items)])\n",
    "                              for scenario in binary_scenarios]\n",
    "\n",
    "    return scenario_weights, scenario_probabilities"
   ]
  },
  {
   "cell_type": "code",
   "execution_count": 16,
   "metadata": {},
   "outputs": [],
   "source": [
    "def create_SAA_weights(item_sizes, pi, problem_instance, N):\n",
    "    scenarios_SAA = [generate_weights(item_sizes, pi, problem_instance) for j in range(N)]\n",
    "\n",
    "    return scenarios_SAA"
   ]
  },
  {
   "cell_type": "markdown",
   "metadata": {},
   "source": [
    "## Model formulation using the Gurobi library\n",
    "We are now ready to formulate the linear programming model mentioned above in Gurobi. The entire model is implemented in `optimise_skp()`. Recall that we also implement the SAA model here as well, seeing as the generation of the instances is the only difference."
   ]
  },
  {
   "cell_type": "code",
   "execution_count": 17,
   "metadata": {},
   "outputs": [],
   "source": [
    "def optimise_skp(problem_instance, beta, alpha, r, p, K, scenario_weights=None,\n",
    "                 scenario_probabilities=None, SAA=False, N=None, verbose=False):\n",
    "\n",
    "    # Generate scenarios for problem instance if not provided\n",
    "    if SAA:\n",
    "        assert N is not None, \"For SAA = True, N should be specified\"\n",
    "\n",
    "        if scenario_weights is None:\n",
    "            scenario_weights = create_SAA_weights(item_sizes, pi, problem_instance, N)\n",
    "\n",
    "        scenario_probabilities = [1/N for j in range(N)]\n",
    "    else:\n",
    "        assert ((scenario_weights is None) and (scenario_probabilities is None)) or \\\n",
    "            ((scenario_weights is not None) and (scenario_probabilities is not None)),\\\n",
    "            \"scenario_weights and scenario_probabilities should both be given or should both be None\"\n",
    "\n",
    "        if (scenario_weights is None) and (scenario_probabilities is None):\n",
    "            scenario_weights, scenario_probabilities = create_scenarios(problem_instance)\n",
    "\n",
    "    # Initialise input parameters\n",
    "    num_items = len(r)\n",
    "    items = range(num_items)\n",
    "    scenarios = range(len(scenario_probabilities))\n",
    "\n",
    "    if beta == 0:\n",
    "        alpha = alpha[\"EV\"]\n",
    "    else:\n",
    "        alpha = alpha[\"CVaR\"]\n",
    "\n",
    "    # Create empty model\n",
    "    m = gb.Model()\n",
    "    \n",
    "    if not verbose:\n",
    "        # Suppress running output\n",
    "        m.setParam('OutputFlag', 0)\n",
    "\n",
    "    # Create variables\n",
    "    x = m.addVars(items, vtype=gb.GRB.BINARY, name=\"x\")\n",
    "    eta = m.addVars(1, vtype=gb.GRB.CONTINUOUS, name=\"eta\")\n",
    "    epsilon = m.addVars(scenarios, vtype=gb.GRB.CONTINUOUS, name=\"epsilon\", lb=0)\n",
    "    s = m.addVars(scenarios, vtype=gb.GRB.CONTINUOUS, name=\"s\", lb=0)\n",
    "\n",
    "    # Set objective function\n",
    "    def scenario_profit(scenario):\n",
    "        return gb.quicksum(r[item]*scenario_weights[scenario][item]*x[item]\n",
    "                           for item in items)-p*epsilon[scenario]\n",
    "\n",
    "    # obj_1 corresponds to the expected profit part of the objective, while obj_2 corresponds to the\n",
    "    # CVaR part\n",
    "    obj_1 = (1-beta)*gb.quicksum(scenario_probabilities[scenario]*scenario_profit(scenario)\n",
    "                                 for scenario in scenarios)\n",
    "    obj_2 = beta*(eta[0]-(1/(1-alpha))*gb.quicksum(scenario_probabilities[scenario]*s[scenario]\n",
    "                                                   for scenario in scenarios))\n",
    "\n",
    "    m.setObjective(obj_1 + obj_2, gb.GRB.MAXIMIZE)\n",
    "\n",
    "    # Set constraints\n",
    "    for scenario in scenarios:\n",
    "        m.addConstr(epsilon[scenario] >= gb.quicksum(scenario_weights[scenario][item]*x[item]\n",
    "                                                     for item in items) - K,\n",
    "                    name=\"epsilon_constraint\")\n",
    "        m.addConstr(s[scenario] >= eta[0] - scenario_profit(scenario), name=\"S_constraint\")\n",
    "\n",
    "    # Solve model\n",
    "    m.optimize()\n",
    "\n",
    "    return m"
   ]
  },
  {
   "cell_type": "markdown",
   "metadata": {},
   "source": [
    "## Part 5.\n",
    "We now want to solve the EV and CVaR models optimally for 10 random instances created in Part 1 using the model we implemented in `optimise_skp()`. In total, the model will therefore be run $2 \\times 10 = 20$ times, given that we have 10 instances and two models (EV and CVaR)."
   ]
  },
  {
   "cell_type": "code",
   "execution_count": 18,
   "metadata": {
    "scrolled": true
   },
   "outputs": [
    {
     "name": "stdout",
     "output_type": "stream",
     "text": [
      "Academic license - for non-commercial use only\n"
     ]
    }
   ],
   "source": [
    "solution_EV = [optimise_skp(instance, beta_model[\"EV\"], alpha_model, r, p, K)\n",
    "               for instance in range(num_instances)]\n",
    "solution_CVaR = [optimise_skp(instance, beta_model[\"CVaR\"], alpha_model, r, p, K)\n",
    "                 for instance in range(num_instances)]"
   ]
  },
  {
   "cell_type": "markdown",
   "metadata": {},
   "source": [
    "After having run the models, we print the results below for all 10 instances."
   ]
  },
  {
   "cell_type": "code",
   "execution_count": 19,
   "metadata": {
    "scrolled": true
   },
   "outputs": [
    {
     "name": "stdout",
     "output_type": "stream",
     "text": [
      "Results for instance 1\n",
      "EV Model\n",
      "Maximum objective value: 17013.270951770104\n",
      "x: [1, 1, 1, 1, 1, 1, 1, 0, 0, 0]\n",
      "\n",
      "CVar Model\n",
      "Maximum objective value: 13880.200748989768\n",
      "x: [1, 0, 0, 0, 1, 1, 1, 1, 1, 1]\n",
      "eta: 14375\n",
      "----------\n",
      "Results for instance 2\n",
      "EV Model\n",
      "Maximum objective value: 16938.963691278816\n",
      "x: [1, 1, 1, 1, 1, 1, 1, 0, 0, 0]\n",
      "\n",
      "CVar Model\n",
      "Maximum objective value: 13737.98329593893\n",
      "x: [0, 0, 0, 0, 1, 1, 1, 1, 1, 1]\n",
      "eta: 14920\n",
      "----------\n",
      "Results for instance 3\n",
      "EV Model\n",
      "Maximum objective value: 16985.462192769053\n",
      "x: [1, 1, 1, 1, 1, 1, 1, 0, 0, 0]\n",
      "\n",
      "CVar Model\n",
      "Maximum objective value: 13648.545928764412\n",
      "x: [0, 0, 0, 0, 1, 1, 1, 1, 1, 1]\n",
      "eta: 14928\n",
      "----------\n",
      "Results for instance 4\n",
      "EV Model\n",
      "Maximum objective value: 16972.534260033088\n",
      "x: [1, 1, 1, 1, 1, 1, 1, 0, 0, 0]\n",
      "\n",
      "CVar Model\n",
      "Maximum objective value: 13813.54187194134\n",
      "x: [1, 0, 0, 0, 1, 1, 1, 1, 1, 1]\n",
      "eta: 14365\n",
      "----------\n",
      "Results for instance 5\n",
      "EV Model\n",
      "Maximum objective value: 16968.324156044946\n",
      "x: [1, 1, 1, 1, 1, 1, 1, 0, 0, 0]\n",
      "\n",
      "CVar Model\n",
      "Maximum objective value: 13754.348065285467\n",
      "x: [0, 0, 0, 0, 1, 1, 1, 1, 1, 1]\n",
      "eta: 15019\n",
      "----------\n",
      "Results for instance 6\n",
      "EV Model\n",
      "Maximum objective value: 16973.386564009805\n",
      "x: [1, 1, 1, 1, 1, 1, 1, 0, 0, 0]\n",
      "\n",
      "CVar Model\n",
      "Maximum objective value: 13706.804921740746\n",
      "x: [0, 1, 1, 0, 0, 1, 1, 1, 1, 1]\n",
      "eta: 14281\n",
      "----------\n",
      "Results for instance 7\n",
      "EV Model\n",
      "Maximum objective value: 16993.495149328734\n",
      "x: [1, 1, 1, 1, 1, 1, 1, 0, 0, 0]\n",
      "\n",
      "CVar Model\n",
      "Maximum objective value: 13900.148736371573\n",
      "x: [0, 0, 0, 0, 1, 1, 1, 1, 1, 1]\n",
      "eta: 15144\n",
      "----------\n",
      "Results for instance 8\n",
      "EV Model\n",
      "Maximum objective value: 16970.517718969837\n",
      "x: [1, 1, 1, 1, 1, 1, 1, 0, 0, 0]\n",
      "\n",
      "CVar Model\n",
      "Maximum objective value: 13708.583005350454\n",
      "x: [0, 0, 0, 0, 1, 1, 1, 1, 1, 1]\n",
      "eta: 15046\n",
      "----------\n",
      "Results for instance 9\n",
      "EV Model\n",
      "Maximum objective value: 16996.22766357972\n",
      "x: [1, 1, 1, 1, 1, 1, 1, 0, 0, 0]\n",
      "\n",
      "CVar Model\n",
      "Maximum objective value: 13884.300164950742\n",
      "x: [1, 0, 0, 0, 1, 1, 1, 1, 1, 1]\n",
      "eta: 14431\n",
      "----------\n",
      "Results for instance 10\n",
      "EV Model\n",
      "Maximum objective value: 16938.094566110554\n",
      "x: [1, 1, 1, 1, 1, 1, 1, 0, 0, 0]\n",
      "\n",
      "CVar Model\n",
      "Maximum objective value: 13769.593565122566\n",
      "x: [0, 1, 0, 1, 0, 1, 1, 1, 1, 1]\n",
      "eta: 14330\n",
      "----------\n"
     ]
    }
   ],
   "source": [
    "# Print the results\n",
    "for j in range(num_instances):\n",
    "    v_EV = solution_EV[j].getVars()\n",
    "    v_CVaR = solution_CVaR[j].getVars()\n",
    "\n",
    "    # Get the values for x and eta in the optimal solutions. For EV, note that eta is always 0, so\n",
    "    # we do not display it.\n",
    "    outcome_x_EV = [int(v_EV[i].x) for i in range(len(v_EV))\n",
    "                    if (re.sub(\"\\[\\d+\\]\", \"\", v_EV[i].varName) == \"x\")]\n",
    "    outcome_x_CVaR = [int(v_CVaR[i].x) for i in range(len(v_CVaR))\n",
    "                      if (re.sub(\"\\[\\d+\\]\", \"\", v_CVaR[i].varName) == \"x\")]\n",
    "    outcome_eta_CVaR = [int(v_CVaR[i].x) for i in range(len(v_CVaR))\n",
    "                        if (re.sub(\"\\[\\d+\\]\", \"\", v_CVaR[i].varName) == \"eta\")][0]\n",
    "\n",
    "    print(\"Results for instance\", j+1)\n",
    "    print(\"EV Model\")\n",
    "    print(\"Maximum objective value:\", solution_EV[j].objVal)\n",
    "    print(\"x:\", outcome_x_EV)\n",
    "    print(\"\")\n",
    "    print(\"CVar Model\")\n",
    "    print(\"Maximum objective value:\", solution_CVaR[j].objVal)\n",
    "    print(\"x:\", outcome_x_CVaR)\n",
    "    print(\"eta:\", outcome_eta_CVaR)\n",
    "    print(\"----------\")"
   ]
  },
  {
   "cell_type": "markdown",
   "metadata": {},
   "source": [
    "## Part 6.\n",
    "In Part 6, we work on some analysis on a change in the risk parameter $\\alpha$, the penalty $p$, and the knapsack capacity $K$ on the objective function value of the CVaR model and item selection strategy. Let us start with the change in $\\alpha$.\n",
    "\n",
    "For $\\alpha$, we decreased the value by 0.05 during each iteration. So we started with a value of 0.95 and ended at the value 0.50. We decided on 0.05 because it was small enough to not make a large change with any one iteration, but over 10 iterations it was large enough that you could easily see any trending changes in CVaR. "
   ]
  },
  {
   "cell_type": "code",
   "execution_count": 20,
   "metadata": {
    "scrolled": true
   },
   "outputs": [
    {
     "name": "stdout",
     "output_type": "stream",
     "text": [
      "Result for alpha equal to 0.95\n",
      "Maximum objective value:  13880.200748989768\n",
      "CVar | x: [1, 0, 0, 0, 1, 1, 1, 1, 1, 1] | eta: [14375]\n",
      "\n",
      "Result for alpha equal to 0.9\n",
      "Maximum objective value:  14580.100086550565\n",
      "CVar | x: [0, 0, 0, 0, 1, 1, 1, 1, 1, 1] | eta: [15370]\n",
      "\n",
      "Result for alpha equal to 0.85\n",
      "Maximum objective value:  14843.706900198265\n",
      "CVar | x: [0, 0, 0, 0, 1, 1, 1, 1, 1, 1] | eta: [15370]\n",
      "\n",
      "Result for alpha equal to 0.8\n",
      "Maximum objective value:  14982.090571261655\n",
      "CVar | x: [1, 0, 0, 0, 0, 1, 1, 1, 1, 1] | eta: [15656]\n",
      "\n",
      "Result for alpha equal to 0.75\n",
      "Maximum objective value:  15117.048118497913\n",
      "CVar | x: [1, 0, 0, 0, 0, 1, 1, 1, 1, 1] | eta: [15656]\n",
      "\n",
      "Result for alpha equal to 0.7\n",
      "Maximum objective value:  15207.019816655413\n",
      "CVar | x: [1, 0, 0, 0, 0, 1, 1, 1, 1, 1] | eta: [15656]\n",
      "\n",
      "Result for alpha equal to 0.65\n",
      "Maximum objective value:  15327.967746662429\n",
      "CVar | x: [1, 1, 1, 0, 1, 1, 1, 0, 1, 0] | eta: [16552]\n",
      "\n",
      "Result for alpha equal to 0.6\n",
      "Maximum objective value:  15484.436655074804\n",
      "CVar | x: [1, 1, 1, 0, 1, 1, 1, 0, 1, 0] | eta: [16587]\n",
      "\n",
      "Result for alpha equal to 0.55\n",
      "Maximum objective value:  15616.990821858395\n",
      "CVar | x: [1, 1, 1, 0, 1, 1, 1, 0, 1, 0] | eta: [16722]\n",
      "\n",
      "Result for alpha equal to 0.5\n",
      "Maximum objective value:  15809.977629598283\n",
      "CVar | x: [1, 1, 1, 1, 1, 1, 1, 0, 0, 0] | eta: [17765]\n",
      "\n",
      "Result for alpha equal to 0.45\n",
      "Maximum objective value:  15988.046562606569\n",
      "CVar | x: [1, 1, 1, 1, 1, 1, 1, 0, 0, 0] | eta: [17800]\n",
      "\n",
      "Result for alpha equal to 0.4\n",
      "Maximum objective value:  16142.430900179774\n",
      "CVar | x: [1, 1, 1, 1, 1, 1, 1, 0, 0, 0] | eta: [17922]\n",
      "\n",
      "Result for alpha equal to 0.35\n",
      "Maximum objective value:  16280.739679576314\n",
      "CVar | x: [1, 1, 1, 1, 1, 1, 1, 0, 0, 0] | eta: [18000]\n",
      "\n",
      "Result for alpha equal to 0.3\n",
      "Maximum objective value:  16405.372864605448\n",
      "CVar | x: [1, 1, 1, 1, 1, 1, 1, 0, 0, 0] | eta: [18057]\n",
      "\n",
      "Result for alpha equal to 0.25\n",
      "Maximum objective value:  16517.139315787284\n",
      "CVar | x: [1, 1, 1, 1, 1, 1, 1, 0, 0, 0] | eta: [18107]\n",
      "\n",
      "Result for alpha equal to 0.2\n",
      "Maximum objective value:  16618.08735744983\n",
      "CVar | x: [1, 1, 1, 1, 1, 1, 1, 0, 0, 0] | eta: [18157]\n",
      "\n",
      "Result for alpha equal to 0.15\n",
      "Maximum objective value:  16712.670283865253\n",
      "CVar | x: [1, 1, 1, 1, 1, 1, 1, 0, 0, 0] | eta: [18307]\n",
      "\n",
      "Result for alpha equal to 0.1\n",
      "Maximum objective value:  16806.414576258714\n",
      "CVar | x: [1, 1, 1, 1, 1, 1, 1, 0, 0, 0] | eta: [18449]\n",
      "\n",
      "Result for alpha equal to 0.05\n",
      "Maximum objective value:  16900.626938442445\n",
      "CVar | x: [1, 1, 1, 1, 1, 1, 1, 0, 0, 0] | eta: [18812]\n",
      "\n",
      "Result for alpha equal to -0.0\n",
      "Maximum objective value:  17013.270951770108\n",
      "CVar | x: [1, 1, 1, 1, 1, 1, 1, 0, 0, 0] | eta: [19613]\n",
      "\n"
     ]
    }
   ],
   "source": [
    "# Initialise number of runs\n",
    "runs = 20\n",
    "alpha_model = {\"EV\": 0, \"CVaR\": 0.95}\n",
    "alpha_model_6 = copy.deepcopy(alpha_model)\n",
    "profits_6 = np.zeros(runs)\n",
    "alpha_array_6 = np.zeros(runs)\n",
    "\n",
    "for i in range(runs):\n",
    "\n",
    "    # Solve CVaR mode\n",
    "    model_solves_CVaR = optimise_skp(0, beta_model[\"CVaR\"], alpha_model_6, r, p, K)\n",
    "    v_CVaR = model_solves_CVaR.getVars()\n",
    "\n",
    "    outcome_x_CVaR = [int(v_CVaR[i].x) for i in range(len(v_CVaR))\n",
    "                      if (re.sub(\"\\[\\d+\\]\", \"\", v_CVaR[i].varName) == \"x\")]\n",
    "    outcome_eta_CVaR = [int(v_CVaR[i].x) for i in range(len(v_CVaR))\n",
    "                        if (re.sub(\"\\[\\d+\\]\", \"\", v_CVaR[i].varName) == \"eta\")]\n",
    "    outcome_epsilon_CVaR = [int(v_CVaR[i].x) for i in range(len(v_CVaR))\n",
    "                            if (re.sub(\"\\[\\d+\\]\", \"\", v_CVaR[i].varName) == \"epsilon\")]\n",
    "    outcome_s_CVaR = [int(v_CVaR[i].x) for i in range(len(v_CVaR))\n",
    "                      if (re.sub(\"\\[\\d+\\]\", \"\", v_CVaR[i].varName) == \"s\")]\n",
    "\n",
    "    print(\"Result for alpha equal to\", round(alpha_model_6[\"CVaR\"],2))\n",
    "    print(\"Maximum objective value: \", model_solves_CVaR.objVal)\n",
    "    print(\"CVar | x:\", outcome_x_CVaR, \"| eta:\", outcome_eta_CVaR)\n",
    "    print(\"\")\n",
    "\n",
    "    profits_6[i] = model_solves_CVaR.objVal\n",
    "    alpha_array_6[i] = alpha_model_6[\"CVaR\"]\n",
    "    alpha_model_6[\"CVaR\"] -= 0.05"
   ]
  },
  {
   "cell_type": "code",
   "execution_count": 25,
   "metadata": {
    "scrolled": true
   },
   "outputs": [
    {
     "data": {
      "image/png": "[encoded data removed]",
      "text/plain": [
       "<Figure size 432x288 with 1 Axes>"
      ]
     },
     "metadata": {
      "needs_background": "light"
     },
     "output_type": "display_data"
    }
   ],
   "source": [
    "plt.plot(alpha_array_6, profits_6, marker='o', color='#de5285')\n",
    "plt.xlabel(r'Risk measure $\\alpha$')\n",
    "plt.ylabel('Profit')\n",
    "plt.title(r'Change in profit (CVaR) as $\\alpha$ decreases')\n",
    "plt.xlim(1, -0.05)\n",
    "plt.axhline(y = solution_EV[0].objVal)\n",
    "plt.text(0.98, 16800, f\"Profit EV: {round(solution_EV[0].objVal, 2)}\")\n",
    "plt.show()"
   ]
  },
  {
   "cell_type": "markdown",
   "metadata": {},
   "source": [
    "Doing this showed that as $\\alpha$ decreases, the value of CVaR increases. This is what we would intuitively expect, as with an $\\alpha$ of 0.95 we are looking at a CVaR in the worst 5% of cases. When we have an $\\alpha$ of 0.50 we are looking at a CVaR in the worst 0.50 of cases.\n",
    "\n",
    "For penalty $p$, we decided to see what happened to CVaR when its value was changed, as the value of $p$ was already less than $r_i$. We decreased $p$ by 5 for each iteration, as this was small enough that we would not have any large changes in any given iteration, but large enough that over 20 iterations we would see any trends that emerged."
   ]
  },
  {
   "cell_type": "code",
   "execution_count": 26,
   "metadata": {
    "scrolled": true
   },
   "outputs": [
    {
     "name": "stdout",
     "output_type": "stream",
     "text": [
      "Result for p equal to 100\n",
      "Maximum objective value:  11623.780131537205\n",
      "CVar | x: [0, 0, 0, 0, 0, 1, 1, 1, 1, 1] | eta: [12191]\n",
      "\n",
      "Result for p equal to 95\n",
      "Maximum objective value:  11623.780131537205\n",
      "CVar | x: [0, 0, 0, 0, 0, 1, 1, 1, 1, 1] | eta: [12191]\n",
      "\n",
      "Result for p equal to 90\n",
      "Maximum objective value:  11623.780131537205\n",
      "CVar | x: [0, 0, 0, 0, 0, 1, 1, 1, 1, 1] | eta: [12191]\n",
      "\n",
      "Result for p equal to 85\n",
      "Maximum objective value:  11781.45342608899\n",
      "CVar | x: [0, 0, 1, 0, 1, 1, 1, 0, 1, 1] | eta: [12146]\n",
      "\n",
      "Result for p equal to 80\n",
      "Maximum objective value:  12257.85558226867\n",
      "CVar | x: [0, 0, 0, 0, 1, 1, 1, 1, 1, 1] | eta: [12488]\n",
      "\n",
      "Result for p equal to 75\n",
      "Maximum objective value:  12658.061728564408\n",
      "CVar | x: [0, 0, 0, 0, 1, 1, 1, 1, 1, 1] | eta: [13209]\n",
      "\n",
      "Result for p equal to 70\n",
      "Maximum objective value:  13035.134367578768\n",
      "CVar | x: [0, 0, 0, 0, 1, 1, 1, 1, 1, 1] | eta: [13929]\n",
      "\n",
      "Result for p equal to 65\n",
      "Maximum objective value:  13412.207006593138\n",
      "CVar | x: [0, 0, 0, 0, 1, 1, 1, 1, 1, 1] | eta: [14650]\n",
      "\n",
      "Result for p equal to 60\n",
      "Maximum objective value:  13880.200748989768\n",
      "CVar | x: [1, 0, 0, 0, 1, 1, 1, 1, 1, 1] | eta: [14375]\n",
      "\n",
      "Result for p equal to 55\n",
      "Maximum objective value:  14826.530370931785\n",
      "CVar | x: [0, 0, 1, 0, 1, 1, 1, 1, 1, 1] | eta: [15402]\n",
      "\n",
      "Result for p equal to 50\n",
      "Maximum objective value:  16476.78483823998\n",
      "CVar | x: [1, 1, 1, 1, 1, 1, 1, 1, 0, 1] | eta: [16916]\n",
      "\n",
      "Result for p equal to 45\n",
      "Maximum objective value:  17557.360457336723\n",
      "CVar | x: [1, 1, 1, 1, 1, 1, 1, 1, 1, 1] | eta: [17771]\n",
      "\n",
      "Result for p equal to 40\n",
      "Maximum objective value:  18103.62465047649\n",
      "CVar | x: [1, 1, 1, 1, 1, 1, 1, 1, 1, 1] | eta: [18553]\n",
      "\n",
      "Result for p equal to 35\n",
      "Maximum objective value:  18559.003812124825\n",
      "CVar | x: [1, 1, 1, 1, 1, 1, 1, 1, 1, 1] | eta: [19348]\n",
      "\n",
      "Result for p equal to 30\n",
      "Maximum objective value:  18978.002020891632\n",
      "CVar | x: [1, 1, 1, 1, 1, 1, 1, 1, 1, 1] | eta: [20143]\n",
      "\n",
      "Result for p equal to 25\n",
      "Maximum objective value:  19389.550154737575\n",
      "CVar | x: [1, 1, 1, 1, 1, 1, 1, 1, 1, 1] | eta: [20938]\n",
      "\n",
      "Result for p equal to 20\n",
      "Maximum objective value:  19799.398944268192\n",
      "CVar | x: [1, 1, 1, 1, 1, 1, 1, 1, 1, 1] | eta: [21732]\n",
      "\n",
      "Result for p equal to 15\n",
      "Maximum objective value:  20208.792746460604\n",
      "CVar | x: [1, 1, 1, 1, 1, 1, 1, 1, 1, 1] | eta: [22527]\n",
      "\n",
      "Result for p equal to 10\n",
      "Maximum objective value:  20618.143612394037\n",
      "CVar | x: [1, 1, 1, 1, 1, 1, 1, 1, 1, 1] | eta: [23322]\n",
      "\n",
      "Result for p equal to 5\n",
      "Maximum objective value:  21027.467263364153\n",
      "CVar | x: [1, 1, 1, 1, 1, 1, 1, 1, 1, 1] | eta: [24117]\n",
      "\n"
     ]
    }
   ],
   "source": [
    "p_6 = 100\n",
    "profits_6 = np.zeros(runs)\n",
    "p_array_6 = np.zeros(runs)\n",
    "\n",
    "for i in range(runs):\n",
    "\n",
    "    # Solve CVaR mode\n",
    "    model_solves_CVaR = optimise_skp(0, beta_model[\"CVaR\"], alpha_model, r, p_6, K)\n",
    "    v_CVaR = model_solves_CVaR.getVars()\n",
    "\n",
    "    outcome_x_CVaR = [int(v_CVaR[i].x) for i in range(len(v_CVaR))\n",
    "                      if (re.sub(\"\\[\\d+\\]\", \"\", v_CVaR[i].varName) == \"x\")]\n",
    "    outcome_eta_CVaR = [int(v_CVaR[i].x) for i in range(len(v_CVaR))\n",
    "                        if (re.sub(\"\\[\\d+\\]\", \"\", v_CVaR[i].varName) == \"eta\")]\n",
    "    outcome_epsilon_CVaR = [int(v_CVaR[i].x) for i in range(len(v_CVaR))\n",
    "                            if (re.sub(\"\\[\\d+\\]\", \"\", v_CVaR[i].varName) == \"epsilon\")]\n",
    "    outcome_s_CVaR = [int(v_CVaR[i].x) for i in range(len(v_CVaR))\n",
    "                      if (re.sub(\"\\[\\d+\\]\", \"\", v_CVaR[i].varName) == \"s\")]\n",
    "\n",
    "    print(\"Result for p equal to\", p_6)\n",
    "    print(\"Maximum objective value: \", model_solves_CVaR.objVal)\n",
    "    print(\"CVar | x:\", outcome_x_CVaR, \"| eta:\", outcome_eta_CVaR)\n",
    "    print(\"\")\n",
    "\n",
    "    profits_6[i] = model_solves_CVaR.objVal\n",
    "    p_array_6[i] = p_6\n",
    "    p_6 -= 5"
   ]
  },
  {
   "cell_type": "code",
   "execution_count": 27,
   "metadata": {},
   "outputs": [
    {
     "data": {
      "image/png": "[encoded data removed]",
      "text/plain": [
       "<Figure size 432x288 with 1 Axes>"
      ]
     },
     "metadata": {
      "needs_background": "light"
     },
     "output_type": "display_data"
    }
   ],
   "source": [
    "plt.plot(p_array_6, profits_6, marker='o', color='#de5285')\n",
    "plt.xlabel('Penalty $p$')\n",
    "plt.ylabel('Profit')\n",
    "plt.title('Change in profit (CVaR) as $p$ Changes')\n",
    "plt.xlim(105,0)\n",
    "\n",
    "plt.axvline(x = p)\n",
    "plt.text(59,11500,f\"$p$={p}\")\n",
    "\n",
    "plt.show()"
   ]
  },
  {
   "cell_type": "markdown",
   "metadata": {},
   "source": [
    "We see that for a decrease in the penalty, the profit from the CVaR model does indeed increase, as there is less of a risk to add new items while incurring a large penalty. While when penalty is increased, the profit from the CVar model decreses.\n",
    "\n",
    "For $K$, we wanted to see what would happen to CVaR as knapsack capacity changed. We increased $K$ by 10 for each iteration, as this would show us any emerging trends that occurred to the increase in $K$. Intuitively we would expect CVaR to increase, because if the capacity of the knapsack increases, then the number of things you can fit inside of it increases."
   ]
  },
  {
   "cell_type": "code",
   "execution_count": 28,
   "metadata": {
    "scrolled": true
   },
   "outputs": [
    {
     "name": "stdout",
     "output_type": "stream",
     "text": [
      "Result for K equal to 308\n",
      "Maximum objective value:  10372.19185611416\n",
      "CVar | x: [0, 0, 0, 0, 0, 1, 1, 1, 1, 1] | eta: [10652]\n",
      "\n",
      "Result for K equal to 318\n",
      "Maximum objective value:  10899.854001958083\n",
      "CVar | x: [0, 0, 0, 0, 0, 1, 1, 1, 1, 1] | eta: [11252]\n",
      "\n",
      "Result for K equal to 328\n",
      "Maximum objective value:  11427.516147802015\n",
      "CVar | x: [0, 0, 0, 0, 0, 1, 1, 1, 1, 1] | eta: [11852]\n",
      "\n",
      "Result for K equal to 338\n",
      "Maximum objective value:  11623.780131537205\n",
      "CVar | x: [0, 0, 0, 0, 0, 1, 1, 1, 1, 1] | eta: [12191]\n",
      "\n",
      "Result for K equal to 348\n",
      "Maximum objective value:  11855.530972547747\n",
      "CVar | x: [1, 0, 0, 0, 0, 1, 1, 1, 1, 1] | eta: [12056]\n",
      "\n",
      "Result for K equal to 358\n",
      "Maximum objective value:  12229.14802024717\n",
      "CVar | x: [0, 0, 1, 0, 0, 1, 1, 1, 1, 1] | eta: [12471]\n",
      "\n",
      "Result for K equal to 368\n",
      "Maximum objective value:  12533.25922478375\n",
      "CVar | x: [0, 0, 0, 0, 1, 1, 1, 1, 1, 1] | eta: [12970]\n",
      "\n",
      "Result for K equal to 378\n",
      "Maximum objective value:  12847.293436697031\n",
      "CVar | x: [0, 0, 0, 0, 1, 1, 1, 1, 1, 1] | eta: [13570]\n",
      "\n",
      "Result for K equal to 388\n",
      "Maximum objective value:  13161.28883966718\n",
      "CVar | x: [0, 0, 0, 0, 1, 1, 1, 1, 1, 1] | eta: [14170]\n",
      "\n",
      "Result for K equal to 398\n",
      "Maximum objective value:  13475.284242637346\n",
      "CVar | x: [0, 0, 0, 0, 1, 1, 1, 1, 1, 1] | eta: [14770]\n",
      "\n",
      "Result for K equal to 408\n",
      "Maximum objective value:  13880.200748989768\n",
      "CVar | x: [1, 0, 0, 0, 1, 1, 1, 1, 1, 1] | eta: [14375]\n",
      "\n",
      "Result for K equal to 418\n",
      "Maximum objective value:  14340.444530382241\n",
      "CVar | x: [1, 0, 0, 0, 1, 1, 1, 1, 1, 1] | eta: [14975]\n",
      "\n",
      "Result for K equal to 428\n",
      "Maximum objective value:  14816.499713348332\n",
      "CVar | x: [0, 0, 1, 0, 1, 1, 1, 1, 1, 1] | eta: [15390]\n",
      "\n",
      "Result for K equal to 438\n",
      "Maximum objective value:  15303.38254363376\n",
      "CVar | x: [0, 0, 1, 0, 1, 1, 1, 1, 1, 1] | eta: [15990]\n",
      "\n",
      "Result for K equal to 448\n",
      "Maximum objective value:  15631.012091873534\n",
      "CVar | x: [0, 0, 0, 1, 1, 1, 1, 1, 1, 1] | eta: [16386]\n",
      "\n",
      "Result for K equal to 458\n",
      "Maximum objective value:  15857.734272948936\n",
      "CVar | x: [1, 0, 1, 0, 1, 1, 1, 1, 1, 1] | eta: [16195]\n",
      "\n",
      "Result for K equal to 468\n",
      "Maximum objective value:  16252.557666249986\n",
      "CVar | x: [1, 0, 1, 0, 1, 1, 1, 1, 1, 1] | eta: [16795]\n",
      "\n",
      "Result for K equal to 478\n",
      "Maximum objective value:  16588.557267180193\n",
      "CVar | x: [0, 0, 1, 1, 1, 1, 1, 1, 1, 1] | eta: [17006]\n",
      "\n",
      "Result for K equal to 488\n",
      "Maximum objective value:  16924.50317881674\n",
      "CVar | x: [0, 0, 1, 1, 1, 1, 1, 1, 1, 1] | eta: [17606]\n",
      "\n",
      "Result for K equal to 498\n",
      "Maximum objective value:  17198.74248237267\n",
      "CVar | x: [0, 0, 1, 1, 1, 1, 1, 1, 1, 1] | eta: [18206]\n",
      "\n"
     ]
    }
   ],
   "source": [
    "K_6 = K-100\n",
    "profits_6 = np.zeros(runs)\n",
    "K_array_6 = np.zeros(runs)\n",
    "\n",
    "for i in range(runs):\n",
    "\n",
    "    # Solve CVaR mode\n",
    "    model_solves_CVaR = optimise_skp(0, beta_model[\"CVaR\"], alpha_model, r, p, K_6)\n",
    "    v_CVaR = model_solves_CVaR.getVars()\n",
    "\n",
    "    outcome_x_CVaR = [int(v_CVaR[i].x) for i in range(len(v_CVaR))\n",
    "                      if (re.sub(\"\\[\\d+\\]\", \"\", v_CVaR[i].varName) == \"x\")]\n",
    "    outcome_eta_CVaR = [int(v_CVaR[i].x) for i in range(len(v_CVaR))\n",
    "                        if (re.sub(\"\\[\\d+\\]\", \"\", v_CVaR[i].varName) == \"eta\")]\n",
    "    outcome_epsilon_CVaR = [int(v_CVaR[i].x) for i in range(len(v_CVaR))\n",
    "                            if (re.sub(\"\\[\\d+\\]\", \"\", v_CVaR[i].varName) == \"epsilon\")]\n",
    "    outcome_s_CVaR = [int(v_CVaR[i].x) for i in range(len(v_CVaR))\n",
    "                      if (re.sub(\"\\[\\d+\\]\", \"\", v_CVaR[i].varName) == \"s\")]\n",
    "\n",
    "    print(\"Result for K equal to\", K_6)\n",
    "    print(\"Maximum objective value: \", model_solves_CVaR.objVal)\n",
    "    print(\"CVar | x:\", outcome_x_CVaR, \"| eta:\", outcome_eta_CVaR)\n",
    "    print(\"\")\n",
    "\n",
    "    profits_6[i] = model_solves_CVaR.objVal\n",
    "    K_array_6[i] = K_6\n",
    "    K_6 += 10"
   ]
  },
  {
   "cell_type": "code",
   "execution_count": 29,
   "metadata": {},
   "outputs": [
    {
     "data": {
      "image/png": "[encoded data removed]",
      "text/plain": [
       "<Figure size 432x288 with 1 Axes>"
      ]
     },
     "metadata": {
      "needs_background": "light"
     },
     "output_type": "display_data"
    }
   ],
   "source": [
    "plt.plot(K_array_6, profits_6, marker='o', color='#de5285')\n",
    "plt.xlabel('$K$')\n",
    "plt.ylabel('Profit')\n",
    "plt.title('Change in profit (CVaR) as $K$ changes')\n",
    "\n",
    "plt.axvline(x=K)\n",
    "plt.text(412,10500,f\"$K$={K}\")\n",
    "\n",
    "plt.show()"
   ]
  },
  {
   "cell_type": "markdown",
   "metadata": {},
   "source": [
    "# Sample Average Approximation\n",
    "## Part 7.\n",
    "\n",
    "The Sample Average Approximation (SAA) model is given by:\n",
    "\\begin{align*}\n",
    "    \\max_{x, \\varepsilon_u, \\eta, S_u} \\; (1-\\beta)\\left[\\frac{1}{N} \\sum_{u=1}^N \\left ( \\sum_{i=1}^{10} r_i W^{u}_i x_i - p \\varepsilon_u \\right)\\right] + \\beta\\left[\\eta - \\frac{1}{(1-\\alpha)N} \\sum_{u=1 }^N S_u \\right] \\tag{SAA}\n",
    "    \\end{align*}\n",
    "subject to \n",
    "    \\begin{align*}\n",
    "    \\begin{aligned}\n",
    "     x_i & \\in \\{0,1\\} & \\quad & \\text{ for all } i \\in I \\\\\n",
    "     \\varepsilon_u & \\geq 0 & \\quad & \\text{ for all } u \\in U \\\\\n",
    "    \\varepsilon_u & \\geq \\sum_{i=1} ^{10} W^{u}_i x_i - K  & \\quad &  \\text{ for all } u \\in U \\\\\n",
    "    S_u & \\geq 0 & \\quad & \\text{ for all } u \\in U \\\\\n",
    "    S_u & \\geq \\eta - \\left ( \\sum_{i=1}^{10} r_i W^{u}_i x_i - p \\varepsilon_u \\right ) & \\quad & \\text{ for all } u \\in U.\n",
    "    \\end{aligned}\n",
    "\\end{align*}\n",
    "\n",
    "For the first problem instance, we want to solve the SAA model $M$ times given a sample of size $N$ to obtain the SAA solution, which is the solution corresponding to the maximum out of $M$ optimal values. A relatively small number for $M$ is usually fine, we take $M = 10$. A larger number for $N$ can be taken. We take $N = 1000$ in the interest of running time, but a larger value for $N$ could be chosen."
   ]
  },
  {
   "cell_type": "code",
   "execution_count": null,
   "metadata": {},
   "outputs": [],
   "source": [
    "N = 1000\n",
    "M = 10\n",
    "problem_instance = 0\n",
    "\n",
    "SAA_solution_EV = [optimise_skp(problem_instance, beta_model[\"EV\"], alpha_model, r, p, K,\n",
    "                                SAA=True, N=N) for j in range(M)]\n",
    "SAA_solution_CVaR = [optimise_skp(problem_instance, beta_model[\"CVaR\"], alpha_model, r, p, K,\n",
    "                                  SAA=True, N=N) for j in range(M)]"
   ]
  },
  {
   "cell_type": "markdown",
   "metadata": {},
   "source": [
    "We can now find the optimal solution by iterating over all $M$ runs and retaining the best solution for both the EV and CVaR model."
   ]
  },
  {
   "cell_type": "code",
   "execution_count": null,
   "metadata": {},
   "outputs": [],
   "source": [
    "SAA_objective_values_EV = []\n",
    "SAA_objective_values_CVaR = []\n",
    "maximum_objective_EV = 0\n",
    "maximum_objective_CVaR = 0\n",
    "\n",
    "for j in range(M):\n",
    "    # EV\n",
    "    SAA_objective_values_EV.append(SAA_solution_EV[j].objVal)\n",
    "\n",
    "    if(SAA_solution_EV[j].objVal > maximum_objective_EV):\n",
    "        maximum_objective_EV = SAA_solution_EV[j].objVal\n",
    "        v_EV = SAA_solution_EV[j].getVars()\n",
    "        SAA_x_EV = [int(v_EV[i].x) for i in range(len(v_EV))\n",
    "                    if (re.sub(\"\\[\\d+\\]\", \"\", v_EV[i].varName) == \"x\")]\n",
    "\n",
    "    # CVaR\n",
    "    SAA_objective_values_CVaR.append(SAA_solution_CVaR[j].objVal)\n",
    "\n",
    "    if(SAA_solution_CVaR[j].objVal > maximum_objective_CVaR):\n",
    "        maximum_objective_CVaR = SAA_solution_CVaR[j].objVal\n",
    "        v_CVaR = SAA_solution_CVaR[j].getVars()\n",
    "        SAA_x_CVaR = [int(v_CVaR[i].x) for i in range(len(v_CVaR))\n",
    "                      if (re.sub(\"\\[\\d+\\]\", \"\", v_CVaR[i].varName) == \"x\")]\n",
    "        SAA_eta_CVaR = [int(v_CVaR[i].x) for i in range(len(v_CVaR))\n",
    "                        if (re.sub(\"\\[\\d+\\]\", \"\", v_CVaR[i].varName) == \"eta\")][0]\n",
    "        \n",
    "print(\"EV Model\")\n",
    "print(\"Maximum objective value:\", maximum_objective_EV)\n",
    "print(\"x:\", SAA_x_EV)\n",
    "print(\"\")\n",
    "print(\"CVaR Model\")\n",
    "print(\"Maximum objective value:\", maximum_objective_CVaR)\n",
    "print(\"x:\", SAA_x_CVaR)\n",
    "print(\"eta:\", SAA_eta_CVaR)"
   ]
  },
  {
   "cell_type": "markdown",
   "metadata": {},
   "source": [
    "## Derivation of optimality gap\n",
    "The optimality gap is defined by: \n",
    "\\begin{align*}\n",
    "    \\mathrm{gap}(\\hat{x}) =  v^* - g(\\hat{x}),\n",
    "\\end{align*}\n",
    "    \n",
    "An upper bound for $v^*$ is found using $E(\\hat{v}_N)$. For this we need the sample mean of $E(\\hat{v}_N)$:\n",
    "\\begin{align*}\n",
    "    \\bar{v}_{N,M} = \\frac{1}{M} \\sum_{j = 1}^M \\hat{v}^j_N\n",
    "\\end{align*}\n",
    "    \n",
    "and the sample variance: \n",
    "\\begin{align*}\n",
    "    \\hat{\\sigma}^2_{N,M} = \\frac{1}{M(M-1)} \\sum_{j =1}^M \\left(\\hat{v}^j_N - \\bar{v}_{N,M}\\right)^2.\n",
    "\\end{align*}"
   ]
  },
  {
   "cell_type": "code",
   "execution_count": null,
   "metadata": {},
   "outputs": [],
   "source": [
    "# Sample mean\n",
    "sample_mean_UB_EV = np.mean(SAA_objective_values_EV)\n",
    "sample_mean_UB_CVaR = np.mean(SAA_objective_values_CVaR)\n",
    "\n",
    "# Sample standard deviation\n",
    "sample_std_UB_EV = np.std(SAA_objective_values_EV, ddof=1) * math.sqrt(1/M)\n",
    "sample_std_UB_CVaR = np.std(SAA_objective_values_CVaR, ddof=1) * math.sqrt(1/M)\n",
    "\n",
    "print(\"EV Model\")\n",
    "print(f\"Sample mean: {sample_mean_UB_EV}\")\n",
    "print(f\"Standard deviation of sample mean: {sample_std_UB_EV}\")\n",
    "print(\"\")\n",
    "print(\"CVaR Model\")\n",
    "print(f\"Sample mean: {sample_mean_UB_CVaR}\")\n",
    "print(f\"Standard deviation of sample mean: {sample_std_UB_CVaR}\")"
   ]
  },
  {
   "cell_type": "markdown",
   "metadata": {},
   "source": [
    "A 95% upper bound for $v^*$ is then given by:\n",
    "$$\n",
    "\\begin{align*}\n",
    "    U_{N,M} = \\bar{v}_{N,M} + t_{\\gamma,\\nu}\\hat{\\sigma}_{N,M},\n",
    "\\end{align*}\n",
    "$$\n",
    "where $\\nu = M-1$ and $t_{\\gamma,\\nu}$ is the $\\gamma$-critical value of the $t$-distribution with $\\nu$ degrees of freedom."
   ]
  },
  {
   "cell_type": "code",
   "execution_count": null,
   "metadata": {},
   "outputs": [],
   "source": [
    "nu = M-1\n",
    "gamma = 0.05\n",
    "critical_value_t = stats.t.ppf(1-gamma, nu)\n",
    "\n",
    "gap_UB_EV = sample_mean_UB_EV + critical_value_t*sample_std_UB_EV\n",
    "gap_UB_CVaR = sample_mean_UB_CVaR + critical_value_t*sample_std_UB_CVaR\n",
    "\n",
    "print(f\"{100*(1-gamma)}% upper bound (EV model): {gap_UB_EV}\")\n",
    "print(f\"{100*(1-gamma)}% upper bound (CVaR model): {gap_UB_CVaR}\")"
   ]
  },
  {
   "cell_type": "markdown",
   "metadata": {},
   "source": [
    "For the lower bound for $g(\\hat{x})$, we first need to generate a random sample $W^1, W^2, \\dots, W^{N'}$, where $N'$ is some large number. The calculations are quite quick as they only concern function evaluations, so we are free to take a relatively large number. We take $N' = 10^5$."
   ]
  },
  {
   "cell_type": "code",
   "execution_count": null,
   "metadata": {
    "scrolled": true
   },
   "outputs": [],
   "source": [
    "N_prime = 10000\n",
    "scenario_weights_SAA = create_SAA_weights(item_sizes, pi, problem_instance, N_prime)"
   ]
  },
  {
   "cell_type": "markdown",
   "metadata": {},
   "source": [
    "Then, we compute the sample mean $\\hat{g}_{N'}(\\hat{x})$ and its sample variance.\n",
    "\n",
    "Let \n",
    "$$\n",
    "\\begin{align*}\n",
    "    Q(\\hat{x},W^{u}) = (1-\\beta) \\left(\\sum_{i=1}^{10} r_i W^{u}_i \\hat{x}_i - p \\varepsilon_u \\right) + \\beta \\left[\\eta - \\frac{1}{1-\\alpha} S_u \\right],\n",
    "\\end{align*}\n",
    "$$\n",
    "where $\\varepsilon_u = \\max \\left\\{0, \\sum_{i=1} ^{10} W^{u}_i \\hat{x}_i - K \\right\\}$ and $S_u = \\max \\left\\{0,\\eta - \\left(\\sum_{i=1}^{10} r_i W^{u}_i \\hat{x}_i - p \\varepsilon_u \\right) \\right\\}$ for all $u \\in U$. This function is coded in `scenario_profit_given_x_hat`.\n",
    "\n",
    "Then, the sample average is given by\n",
    "$$\n",
    "\\begin{align*}\n",
    "    \\hat{g}_{N'}(\\hat{x}) = \\frac{1}{N'} \\sum_{u=1 }^{N'}  Q(\\hat{x},W^{u}),\n",
    "\\end{align*}\n",
    "$$\n",
    "and the sample variance of $\\hat{g}_{N'}(\\hat{x})$ is given by\n",
    "$$\n",
    "\\begin{align*}\n",
    "    \\hat{\\sigma}^2_{N'}(\\hat{x}) = \\frac{1}{N'(N'-1)} \\sum_{u=1}^{N'} \\left[Q(\\hat{x},W^{u}) - \\hat{g}_{N'}(\\hat{x}) \\right]^2.\n",
    "\\end{align*}\n",
    "$$."
   ]
  },
  {
   "cell_type": "code",
   "execution_count": null,
   "metadata": {},
   "outputs": [],
   "source": [
    "def scenario_profit_given_x_hat(x, alpha, beta, r, p, K, eta, scenario_weight):\n",
    "    \n",
    "    scenario_excess = max(0, sum(scenario_weight*x) - K)\n",
    "    profit_EV = sum(r*scenario_weight*x) - p*scenario_excess   \n",
    "    profit_CVaR = eta-(1/(1-alpha))*max(0, eta-profit_EV)\n",
    "    \n",
    "    Q = (1-beta)*profit_EV + beta*profit_CVaR\n",
    "    \n",
    "    return Q"
   ]
  },
  {
   "cell_type": "code",
   "execution_count": null,
   "metadata": {
    "scrolled": true
   },
   "outputs": [],
   "source": [
    "LB_scenarios = range(len(scenario_weights_SAA))\n",
    "\n",
    "Q_EV = [scenario_profit_given_x_hat(SAA_x_EV, alpha_model[\"EV\"], beta_model[\"EV\"], r, p, K,\n",
    "                                    SAA_eta_CVaR, scenario_weights_SAA[scenario])\n",
    "        for scenario in LB_scenarios]\n",
    "Q_CVaR = [scenario_profit_given_x_hat(SAA_x_CVaR, alpha_model[\"CVaR\"], beta_model[\"CVaR\"], r, p, K,\n",
    "                                      SAA_eta_CVaR, scenario_weights_SAA[scenario])\n",
    "          for scenario in LB_scenarios]"
   ]
  },
  {
   "cell_type": "code",
   "execution_count": null,
   "metadata": {},
   "outputs": [],
   "source": [
    "# Sample mean\n",
    "sample_mean_LB_EV = np.mean(Q_EV)\n",
    "sample_mean_LB_CVaR = np.mean(Q_CVaR)\n",
    "\n",
    "# Sample standard deviation\n",
    "sample_std_LB_EV = np.std(Q_EV, ddof=1) * math.sqrt(1/N_prime)\n",
    "sample_std_LB_CVaR = np.std(Q_CVaR, ddof=1) * math.sqrt(1/N_prime)\n",
    "\n",
    "print(\"EV Model\")\n",
    "print(f\"Sample mean: {sample_mean_LB_EV}\")\n",
    "print(f\"Standard deviation of sample mean: {sample_std_LB_EV}\")\n",
    "print(\"\")\n",
    "print(\"CVaR Model\")\n",
    "print(f\"Sample mean: {sample_mean_LB_CVaR}\")\n",
    "print(f\"Standard deviation of sample mean: {sample_std_LB_CVaR}\")"
   ]
  },
  {
   "cell_type": "markdown",
   "metadata": {},
   "source": [
    "A 95% lower bound for $g(\\hat{x})$ is then given by:\n",
    "$$\n",
    "\\begin{align*}\n",
    "    L_{N'} = \\hat{g}_{N'}(\\hat{x}) - z_{\\gamma} \\hat{\\sigma}_{N'}(\\hat{x}),\n",
    "\\end{align*}\n",
    "$$\n",
    "where $z_{\\gamma}$ is the $\\gamma$-critical value of the standard normal distribution."
   ]
  },
  {
   "cell_type": "code",
   "execution_count": null,
   "metadata": {},
   "outputs": [],
   "source": [
    "critical_value_z = stats.norm.ppf(1-gamma,0,1)\n",
    "gap_LB_EV = sample_mean_LB_EV - critical_value_z*sample_std_LB_EV\n",
    "gap_LB_CVaR = sample_mean_LB_CVaR - critical_value_z*sample_std_LB_CVaR\n",
    "\n",
    "print(f\"{100*(1-gamma)}% lower bound (EV model): {gap_LB_EV}\")\n",
    "print(f\"{100*(1-gamma)}% lower bound (CVaR model): {gap_LB_CVaR}\")"
   ]
  },
  {
   "cell_type": "markdown",
   "metadata": {},
   "source": [
    "This gives us a total 90% confidence bound on the true $\\mathrm{gap}(\\hat{x})$:\n",
    "$$\n",
    "\\begin{align*}\n",
    "    \\widehat{gap}(\\hat{x}) = U_{N,M} - L_{N'}.\n",
    "\\end{align*}\n",
    "$$"
   ]
  },
  {
   "cell_type": "code",
   "execution_count": null,
   "metadata": {},
   "outputs": [],
   "source": [
    "gap_EV = gap_UB_EV - gap_LB_EV\n",
    "gap_CVaR = gap_UB_CVaR - gap_LB_CVaR\n",
    "\n",
    "print(f\"{100*(1-2*gamma)}% confidence bound on true gap (EV model): {gap_EV}\")\n",
    "print(f\"{100*(1-2*gamma)}% confidence bound on true gap (CVaR model): {gap_CVaR}\")"
   ]
  },
  {
   "cell_type": "markdown",
   "metadata": {},
   "source": [
    "# Bonus question\n",
    "We now research how antithetic variates can be adopted within the SAA scheme. We start by generating two random sample batches of the weights $W^1, \\dots, W^N$ using $U$ and $1-U$, where $U \\sim Unif(0,1)$ of size $N$. This is done in `create_SAA_weights_AV()`, using `generate_weights_AV()`."
   ]
  },
  {
   "cell_type": "code",
   "execution_count": null,
   "metadata": {},
   "outputs": [],
   "source": [
    "def generate_weights_AV(pi, item_sizes, problem_instance):\n",
    "    \n",
    "    num_items = len(pi)\n",
    "    \n",
    "    U = np.random.uniform(size=num_items)\n",
    "    W1 = [item_sizes[problem_instance][\"dh\"][i] if U[i] < pi[i]\n",
    "          else item_sizes[problem_instance][\"dl\"][i] for i in range(num_items)]\n",
    "    W1 = np.asarray(W1)\n",
    "\n",
    "    U_anti = 1-U\n",
    "    W2 = [item_sizes[problem_instance][\"dh\"][i] if U_anti[i] < pi[i]\n",
    "          else item_sizes[problem_instance][\"dl\"][i] for i in range(num_items)]\n",
    "    W2 = np.asarray(W2)\n",
    "\n",
    "    weights_AV = (W1, W2)\n",
    "    \n",
    "    return weights_AV"
   ]
  },
  {
   "cell_type": "code",
   "execution_count": null,
   "metadata": {},
   "outputs": [],
   "source": [
    "def create_SAA_weights_AV(pi, item_sizes, problem_instance, N):\n",
    "\n",
    "    scenarios_SAA_AV_1 = []\n",
    "    scenarios_SAA_AV_2 = []\n",
    "\n",
    "    for j in range(N):\n",
    "        W = generate_weights_AV(pi, item_sizes, problem_instance)\n",
    "        scenarios_SAA_AV_1.append(W[0])\n",
    "        scenarios_SAA_AV_2.append(W[1])\n",
    "        \n",
    "    scenarios_SAA_AV = (scenarios_SAA_AV_1, scenarios_SAA_AV_2)\n",
    "    \n",
    "    return scenarios_SAA_AV"
   ]
  },
  {
   "cell_type": "markdown",
   "metadata": {},
   "source": [
    "We now solve the SAA scheme $M$ times again, but now for the antithetic variates. We get pairs of antithetic variates $(\\hat{v}^{1,1}_N,\\hat{v}^{1,2}_N), (\\hat{v}^{2,1}_N,\\hat{v}^{2,2}_N), \\dots, (\\hat{v}^{M,1}_N,\\hat{v}^{M,2}_N)$ and then determine $\\hat{v}^{j}_N = \\frac{1}{2}\\left(\\hat{v}^{j,1}_N+\\hat{v}^{j,2}_N\\right)$ for all $j=1,\\dots,M$ and get the SAA solution $\\hat{x}$ in a similar sense as described before.\n",
    "\n",
    "Since we now have the antithetic variates, we take $M$ and $N'$ half as large as before."
   ]
  },
  {
   "cell_type": "code",
   "execution_count": null,
   "metadata": {},
   "outputs": [],
   "source": [
    "M //= 2\n",
    "\n",
    "SAA_solution_EV_AV = []\n",
    "SAA_solution_CVaR_AV = []\n",
    "SAA_EV_max_objective = 0\n",
    "SAA_CVaR_max_objective = 0\n",
    "\n",
    "for j in range(M):\n",
    "    # Solve EV model\n",
    "    scenario_weights_AV = create_SAA_weights_AV(pi, item_sizes, problem_instance, N)\n",
    "\n",
    "    sol1 = optimise_skp(problem_instance, beta_model[\"EV\"], alpha_model, r, p, K,\n",
    "                        scenario_weights=scenario_weights_AV[0], scenario_probabilities=None,\n",
    "                        SAA=True, N=N)\n",
    "    sol2 = optimise_skp(problem_instance, beta_model[\"EV\"], alpha_model, r, p, K,\n",
    "                        scenario_weights=scenario_weights_AV[1], scenario_probabilities=None,\n",
    "                        SAA=True, N=N)\n",
    "\n",
    "    if(sol1.objVal > SAA_EV_max_objective):\n",
    "        SAA_EV_max_objective = sol1.objVal\n",
    "        EV_AV = sol1.getVars()\n",
    "        SAA_x_EV_AV = [int(EV_AV[i].x) for i in range(len(EV_AV))\n",
    "                       if (re.sub(\"\\[\\d+\\]\", \"\", EV_AV[i].varName) == \"x\")]\n",
    "\n",
    "    if(sol2.objVal > SAA_EV_max_objective):\n",
    "        SAA_EV_max_objective = sol2.objVal\n",
    "        EV_AV = sol2.getVars()\n",
    "        SAA_x_EV_AV = [int(EV_AV[i].x) for i in range(len(EV_AV))\n",
    "                       if (re.sub(\"\\[\\d+\\]\", \"\", EV_AV[i].varName) == \"x\")]\n",
    "\n",
    "    SAA_solution_EV_AV.append((sol1.objVal+sol2.objVal)/2)\n",
    "\n",
    "    # Solve CVaR model\n",
    "    scenario_weights_AV = create_SAA_weights_AV(pi, item_sizes, problem_instance, N)\n",
    "\n",
    "    sol1 = optimise_skp(problem_instance, beta_model[\"CVaR\"], alpha_model, r, p, K,\n",
    "                               scenario_weights=scenario_weights_AV[0], scenario_probabilities=None,\n",
    "                               SAA=True, N=N)\n",
    "    sol2 = optimise_skp(problem_instance, beta_model[\"CVaR\"], alpha_model, r, p, K,\n",
    "                               scenario_weights=scenario_weights_AV[1], scenario_probabilities=None,\n",
    "                               SAA=True, N=N)\n",
    "\n",
    "    if(sol1.objVal > SAA_CVaR_max_objective):\n",
    "        SAA_CVaR_max_objective = sol1.objVal\n",
    "        CVaR_AV = sol1.getVars()\n",
    "        SAA_x_CVaR_AV = [int(CVaR_AV[i].x) for i in range(len(CVaR_AV))\n",
    "                         if (re.sub(\"\\[\\d+\\]\", \"\", CVaR_AV[i].varName) == \"x\")]\n",
    "        SAA_eta_CVaR_AV = [int(CVaR_AV[i].x) for i in range(len(CVaR_AV))\n",
    "                           if (re.sub(\"\\[\\d+\\]\", \"\", CVaR_AV[i].varName) == \"eta\")][0]\n",
    "\n",
    "    if(sol2.objVal > SAA_CVaR_max_objective):\n",
    "        SAA_CVaR_max_objective = sol2.objVal\n",
    "        CVaR_AV = sol2.getVars()\n",
    "        SAA_x_CVaR_AV = [int(CVaR_AV[i].x) for i in range(len(CVaR_AV))\n",
    "                         if (re.sub(\"\\[\\d+\\]\", \"\", CVaR_AV[i].varName) == \"x\")]\n",
    "        SAA_eta_CVaR_AV = [int(CVaR_AV[i].x) for i in range(len(CVaR_AV))\n",
    "                           if (re.sub(\"\\[\\d+\\]\", \"\", CVaR_AV[i].varName) == \"eta\")][0]\n",
    "\n",
    "    SAA_solution_CVaR_AV.append((sol1.objVal+sol2.objVal)/2)"
   ]
  },
  {
   "cell_type": "code",
   "execution_count": null,
   "metadata": {
    "scrolled": true
   },
   "outputs": [],
   "source": [
    "# Sample mean\n",
    "sample_mean_UB_EV_AV = np.mean(SAA_solution_EV_AV)\n",
    "sample_mean_UB_CVaR_AV = np.mean(SAA_solution_CVaR_AV)\n",
    "\n",
    "# Sample standard deviation\n",
    "sample_std_UB_EV_AV = np.std(SAA_solution_EV_AV, ddof=1) * math.sqrt(1/M)\n",
    "sample_std_UB_CVaR_AV = np.std(SAA_solution_CVaR_AV, ddof=1) * math.sqrt(1/M)\n",
    "\n",
    "# SAA solution EV model\n",
    "print(\"EV model: \")\n",
    "print(\"x:\", SAA_x_EV_AV)\n",
    "print(\"Maximum objective value:\", SAA_EV_max_objective)\n",
    "print(\"\")\n",
    "print(\"Sample mean with AV: \", sample_mean_UB_EV_AV)\n",
    "print(\"Standard deviation of sample mean with AV: \", sample_std_UB_EV_AV)\n",
    "print(\"\")\n",
    "print(\"Sample mean without AV: \", sample_mean_UB_EV)\n",
    "print(\"Standard deviation of sample mean without AV: \", sample_std_UB_EV)\n",
    "print(\"--------------------\")\n",
    "print(\"CVaR model: \")\n",
    "print(\"x:\", SAA_x_CVaR_AV)\n",
    "print(\"eta:\", SAA_eta_CVaR_AV)\n",
    "print(\"Maximum objective value:\", SAA_CVaR_max_objective)\n",
    "print(\"\")\n",
    "print(\"Sample mean with AV: \", sample_mean_UB_CVaR_AV)\n",
    "print(\"Standard deviation of sample mean with AV: \", sample_std_UB_CVaR_AV)\n",
    "print(\"\")\n",
    "print(\"Sample mean without AV: \", sample_mean_UB_CVaR)\n",
    "print(\"Standard deviation of sample mean without AV: \", sample_std_UB_CVaR)"
   ]
  },
  {
   "cell_type": "markdown",
   "metadata": {},
   "source": [
    "We now repeat the process and generate two random sample batches of the weights $W^1,\\dots,W^{N'}$ using $U$ and $1-U$ and obtain $Q_1\\left(\\hat{x},W^1\\right), \\dots, Q_1\\left(\\hat{x},W^{N'}\\right)$ and $Q_2\\left(\\hat{x},W^1\\right), \\dots, Q_2\\left(\\hat{x},W^{N'}\\right)$. Then, we compute $Q\\left(\\hat{x},W^u\\right) = \\frac{1}{2}\\left(Q_1\\left(\\hat{x},W^u\\right) + Q_2\\left(\\hat{x},W^u\\right)\\right)$ for all $u = 1, \\dots, N'$."
   ]
  },
  {
   "cell_type": "code",
   "execution_count": null,
   "metadata": {},
   "outputs": [],
   "source": [
    "N_prime //= 2\n",
    "scenario_weights_SAA_AV = create_SAA_weights_AV(pi, item_sizes, problem_instance, N_prime)\n",
    "\n",
    "LB_scenarios_AV = range(len(scenario_weights_SAA_AV[0]))\n",
    "\n",
    "# Find Q for EV Model\n",
    "Q_EV_AV_1 = [scenario_profit_given_x_hat(SAA_x_EV_AV, alpha_model[\"EV\"], beta_model[\"EV\"], r, p, K,\n",
    "                                         SAA_eta_CVaR_AV, scenario_weights_SAA_AV[0][scenario])\n",
    "             for scenario in LB_scenarios_AV]\n",
    "Q_EV_AV_2 = [scenario_profit_given_x_hat(SAA_x_EV_AV, alpha_model[\"EV\"], beta_model[\"EV\"], r, p, K,\n",
    "                                         SAA_eta_CVaR_AV, scenario_weights_SAA_AV[1][scenario])\n",
    "             for scenario in LB_scenarios_AV]\n",
    "Q_EV_AV = (np.array(Q_EV_AV_1) + np.array(Q_EV_AV_2)) / 2\n",
    "\n",
    "# Find Q for CVaR Model\n",
    "Q_CVaR_AV_1 = [scenario_profit_given_x_hat(SAA_x_CVaR_AV, 0.95, beta_model[\"CVaR\"], r, p, K,\n",
    "                                           SAA_eta_CVaR_AV, scenario_weights_SAA_AV[0][scenario])\n",
    "               for scenario in LB_scenarios_AV]\n",
    "Q_CVaR_AV_2 = [scenario_profit_given_x_hat(SAA_x_CVaR_AV, 0.95, beta_model[\"CVaR\"], r, p, K,\n",
    "                                           SAA_eta_CVaR_AV, scenario_weights_SAA_AV[1][scenario])\n",
    "               for scenario in LB_scenarios_AV]\n",
    "Q_CVaR_AV = (np.array(Q_CVaR_AV_1) + np.array(Q_CVaR_AV_2)) / 2"
   ]
  },
  {
   "cell_type": "code",
   "execution_count": null,
   "metadata": {},
   "outputs": [],
   "source": [
    "# Sample mean\n",
    "sample_mean_LB_EV_AV = np.mean(Q_EV_AV)\n",
    "sample_mean_LB_CVaR_AV = np.mean(Q_CVaR_AV)\n",
    "\n",
    "# Sample standard deviation\n",
    "sample_std_LB_EV_AV = np.std(Q_EV_AV, ddof=1) * math.sqrt(1/N_prime)\n",
    "sample_std_LB_CVaR_AV = np.std(Q_CVaR_AV, ddof=1) * math.sqrt(1/N_prime)\n",
    "\n",
    "print(\"EV Model\")\n",
    "print(\"Sample mean with AV:\", sample_mean_LB_EV_AV)\n",
    "print(\"Standard deviation of sample mean with AV:\", sample_std_LB_EV_AV)\n",
    "print(\"\")\n",
    "print(\"Sample mean without AV:\", sample_mean_LB_EV)\n",
    "print(\"Standard deviation of sample mean without AV:\", sample_std_LB_EV)\n",
    "print(\"--------------------\")\n",
    "print(\"CVaR Model\")\n",
    "print(\"Sample mean with AV:\", sample_mean_LB_CVaR_AV)\n",
    "print(\"Standard deviation of sample mean with AV:\", sample_std_LB_CVaR_AV)\n",
    "print(\"\")\n",
    "print(\"Sample mean without AV:\", sample_mean_LB_CVaR)\n",
    "print(\"Standard deviation of sample mean without AV:\", sample_std_LB_CVaR)"
   ]
  },
  {
   "cell_type": "markdown",
   "metadata": {},
   "source": [
    "Lastly, we determine a $90\\%$ confidence bound on the true $\\mathrm{gap}(\\hat{x})$ using antithetic variates. The gap is given by\n",
    "$$\n",
    "\\begin{align*}\n",
    "    \\widehat{gap}(\\hat{x}) = U_{N,M} - L_{N'},\n",
    "\\end{align*}\n",
    "$$\n",
    "with the upper and lower bounds defined similarly as before."
   ]
  },
  {
   "cell_type": "code",
   "execution_count": null,
   "metadata": {},
   "outputs": [],
   "source": [
    "nu = M-1\n",
    "gamma = 0.05\n",
    "\n",
    "# Upper bound\n",
    "critical_value_t_AV = stats.t.ppf(1-gamma,nu)\n",
    "gap_UB_EV_AV = sample_mean_UB_EV_AV + critical_value_t_AV*sample_std_UB_EV_AV\n",
    "gap_UB_CVaR_AV = sample_mean_UB_CVaR_AV + critical_value_t*sample_std_UB_CVaR_AV\n",
    "\n",
    "# Lower bound\n",
    "critical_value_z_AV = stats.norm.ppf(1-gamma,0,1)\n",
    "gap_LB_EV_AV = sample_mean_LB_EV_AV - critical_value_z_AV*sample_std_LB_EV_AV\n",
    "gap_LB_CVaR_AV = sample_mean_LB_CVaR_AV - critical_value_z*sample_std_LB_CVaR_AV\n",
    "\n",
    "# Gap \n",
    "gap_EV_AV = gap_UB_EV_AV - gap_LB_EV_AV\n",
    "gap_CVaR_AV = gap_UB_CVaR_AV - gap_LB_CVaR_AV\n",
    "\n",
    "print(f\"{100*(1-2*gamma)}% confidence bound on true gap (EV model) without AV: {gap_EV}\")\n",
    "print(f\"{100*(1-2*gamma)}% confidence bound on true gap (EV model) with AV: {gap_EV_AV}\")\n",
    "print(\"\")\n",
    "print(f\"{100*(1-2*gamma)}% confidence bound on true gap (CVaR model) without AV: {gap_CVaR}\")\n",
    "print(f\"{100*(1-2*gamma)}% confidence bound on true gap (CVaR model) with AV: {gap_CVaR_AV}\")"
   ]
  }
 ],
 "metadata": {
  "kernelspec": {
   "display_name": "Python 3",
   "language": "python",
   "name": "python3"
  },
  "language_info": {
   "codemirror_mode": {
    "name": "ipython",
    "version": 3
   },
   "file_extension": ".py",
   "mimetype": "text/x-python",
   "name": "python",
   "nbconvert_exporter": "python",
   "pygments_lexer": "ipython3",
   "version": "3.7.4"
  }
 },
 "nbformat": 4,
 "nbformat_minor": 2
}
